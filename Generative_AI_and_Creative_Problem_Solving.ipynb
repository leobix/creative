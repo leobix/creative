{
  "cells": [
    {
      "cell_type": "markdown",
      "source": [
        "**Abstract**\n",
        "\n",
        "The rapid advances in generative AI have the potential to reshape organizational innovation, raising uncertainty about the role of human solvers in this new era of augmented intelligence. We initiated a crowdsourcing challenge focused on sustainable, circular economy business opportunities, comparing the capabilities of GPT-4 and human solvers in generating novel and valuable solutions. The challenge attracted a diverse range of global solvers from various industries. 300 evaluators assessed a randomized selection of 13 out of 234 human and AI solutions, totaling 3,900 evaluator–solution pairs. Our findings reveal that, although AI solutions delivered more environmental and financial value—possibly due to a tendency to align with the central patterns seen in their training—human outputs were rated as more innovative, including extreme outcomes at the right tail of the novelty distribution. Our analysis of the rich solution text using natural language processing techniques reveals considerable overlap in semantic dissimilarity metrics between human and AI responses, but humans still exhibit greater linguistic nuances than AI. This study illuminates the promise of AI in augmenting human crowdsourcing for solving complex organizational problems and sets the groundwork for a possible integrative human-AI approach to innovative problem-solving.\n",
        "\n",
        "Keywords: Generative AI, ChatGPT, LLMs, innovation, crowdsourcing, idea generation, evaluation, novelty, value\n",
        "\n",
        "[Paper link](https://papers.ssrn.com/sol3/papers.cfm?abstract_id=4533642)\n",
        "\n",
        "The code below is the code used to generate the problem-solution pairs of the 3 levels, with multiple and single instance."
      ],
      "metadata": {
        "id": "AK1S7ZtNuI-n"
      }
    },
    {
      "cell_type": "markdown",
      "source": [
        "\n",
        "In our study, we explore the use of GPT-4 for generating diverse solutions to challenges in developing sustainable, circular economy business ideas. The effectiveness of GPT-4's output is significantly influenced by the art of prompt engineering, which entails crafting efficient prompts to elicit high-quality, relevant responses from the AI (Brown et al. 2020, Ray 2023). To investigate this, we employed three different prompt engineering strategies to generate AI solutions, details of which are provided in Appendix A.\n",
        "\n",
        "Recent research indicates that Large Language Models (LLMs) like GPT-4 might produce homogenized outputs, which could limit the diversity of generated ideas. To counter this issue, we experimented with two configurations of GPT-4 designed to enhance output diversity: multiple-instance solutions and single-instance solutions with differentiation instructions.\n",
        "\n",
        "The first configuration involves deploying separate instances of GPT-4, each generating a solution independently based on the same prompt. Despite identical model and prompt use, the inherent sampling methods of LLMs ensure varied responses from each instance, as the model generates words based on a range of probable next words instead of selecting the single most likely next word.\n",
        "\n",
        "The second configuration entails a single GPT-4 instance generating multiple solutions sequentially, each differentiated from the last by explicit instructions to vary the output. This approach aims to deepen the exploration of potential solutions by encouraging the model to propose distinct ideas successively. The first configuration simulates the process of independent crowd solvers with each GPT-4 instance acting independently, possibly exploring different facets of the problem and solution space. In contrast, the second configuration resembles an iterative process by an individual solver proposing unique ideas in succession.\n",
        "\n",
        "For both configurations, we maintained the temperature parameter at the default setting provided by the GPT-4 API (temperature = 1) which determines the randomness of the model's predictions."
      ],
      "metadata": {
        "id": "cbZqPtFSksrQ"
      }
    },
    {
      "cell_type": "markdown",
      "metadata": {
        "id": "z7RagBvKP2TQ"
      },
      "source": [
        "# Set up"
      ]
    },
    {
      "cell_type": "code",
      "execution_count": null,
      "metadata": {
        "colab": {
          "base_uri": "https://localhost:8080/"
        },
        "id": "bmHveNU5qyCP",
        "outputId": "a8b6a855-c0bd-41e4-a8dc-24ebe2a1fc6d"
      },
      "outputs": [
        {
          "output_type": "stream",
          "name": "stdout",
          "text": [
            "Collecting openai\n",
            "  Downloading openai-1.13.3-py3-none-any.whl (227 kB)\n",
            "\u001b[?25l     \u001b[90m━━━━━━━━━━━━━━━━━━━━━━━━━━━━━━━━━━━━━━━━\u001b[0m \u001b[32m0.0/227.4 kB\u001b[0m \u001b[31m?\u001b[0m eta \u001b[36m-:--:--\u001b[0m\r\u001b[2K     \u001b[91m━━━━━━━━━━━━━━━━\u001b[0m\u001b[90m╺\u001b[0m\u001b[90m━━━━━━━━━━━━━━━━━━━━━━━\u001b[0m \u001b[32m92.2/227.4 kB\u001b[0m \u001b[31m2.5 MB/s\u001b[0m eta \u001b[36m0:00:01\u001b[0m\r\u001b[2K     \u001b[90m━━━━━━━━━━━━━━━━━━━━━━━━━━━━━━━━━━━━━━━━\u001b[0m \u001b[32m227.4/227.4 kB\u001b[0m \u001b[31m3.8 MB/s\u001b[0m eta \u001b[36m0:00:00\u001b[0m\n",
            "\u001b[?25hRequirement already satisfied: anyio<5,>=3.5.0 in /usr/local/lib/python3.10/dist-packages (from openai) (3.7.1)\n",
            "Requirement already satisfied: distro<2,>=1.7.0 in /usr/lib/python3/dist-packages (from openai) (1.7.0)\n",
            "Collecting httpx<1,>=0.23.0 (from openai)\n",
            "  Downloading httpx-0.27.0-py3-none-any.whl (75 kB)\n",
            "\u001b[2K     \u001b[90m━━━━━━━━━━━━━━━━━━━━━━━━━━━━━━━━━━━━━━━━\u001b[0m \u001b[32m75.6/75.6 kB\u001b[0m \u001b[31m6.3 MB/s\u001b[0m eta \u001b[36m0:00:00\u001b[0m\n",
            "\u001b[?25hRequirement already satisfied: pydantic<3,>=1.9.0 in /usr/local/lib/python3.10/dist-packages (from openai) (2.6.3)\n",
            "Requirement already satisfied: sniffio in /usr/local/lib/python3.10/dist-packages (from openai) (1.3.1)\n",
            "Requirement already satisfied: tqdm>4 in /usr/local/lib/python3.10/dist-packages (from openai) (4.66.2)\n",
            "Requirement already satisfied: typing-extensions<5,>=4.7 in /usr/local/lib/python3.10/dist-packages (from openai) (4.10.0)\n",
            "Requirement already satisfied: idna>=2.8 in /usr/local/lib/python3.10/dist-packages (from anyio<5,>=3.5.0->openai) (3.6)\n",
            "Requirement already satisfied: exceptiongroup in /usr/local/lib/python3.10/dist-packages (from anyio<5,>=3.5.0->openai) (1.2.0)\n",
            "Requirement already satisfied: certifi in /usr/local/lib/python3.10/dist-packages (from httpx<1,>=0.23.0->openai) (2024.2.2)\n",
            "Collecting httpcore==1.* (from httpx<1,>=0.23.0->openai)\n",
            "  Downloading httpcore-1.0.4-py3-none-any.whl (77 kB)\n",
            "\u001b[2K     \u001b[90m━━━━━━━━━━━━━━━━━━━━━━━━━━━━━━━━━━━━━━━━\u001b[0m \u001b[32m77.8/77.8 kB\u001b[0m \u001b[31m7.6 MB/s\u001b[0m eta \u001b[36m0:00:00\u001b[0m\n",
            "\u001b[?25hCollecting h11<0.15,>=0.13 (from httpcore==1.*->httpx<1,>=0.23.0->openai)\n",
            "  Downloading h11-0.14.0-py3-none-any.whl (58 kB)\n",
            "\u001b[2K     \u001b[90m━━━━━━━━━━━━━━━━━━━━━━━━━━━━━━━━━━━━━━━━\u001b[0m \u001b[32m58.3/58.3 kB\u001b[0m \u001b[31m5.4 MB/s\u001b[0m eta \u001b[36m0:00:00\u001b[0m\n",
            "\u001b[?25hRequirement already satisfied: annotated-types>=0.4.0 in /usr/local/lib/python3.10/dist-packages (from pydantic<3,>=1.9.0->openai) (0.6.0)\n",
            "Requirement already satisfied: pydantic-core==2.16.3 in /usr/local/lib/python3.10/dist-packages (from pydantic<3,>=1.9.0->openai) (2.16.3)\n",
            "Installing collected packages: h11, httpcore, httpx, openai\n",
            "Successfully installed h11-0.14.0 httpcore-1.0.4 httpx-0.27.0 openai-1.13.3\n"
          ]
        }
      ],
      "source": [
        "!pip install openai"
      ]
    },
    {
      "cell_type": "code",
      "execution_count": null,
      "metadata": {
        "id": "_-BNwXNJqu7c"
      },
      "outputs": [],
      "source": [
        "import openai\n",
        "from openai import OpenAI\n",
        "\n",
        "from tqdm import tqdm\n",
        "import random\n",
        "import numpy as np\n",
        "import matplotlib.pyplot as plt\n",
        "import time\n",
        "import pandas as pd"
      ]
    },
    {
      "cell_type": "markdown",
      "source": [
        "Enter your OpenAI key here."
      ],
      "metadata": {
        "id": "0vhV18YT5uQb"
      }
    },
    {
      "cell_type": "code",
      "execution_count": null,
      "metadata": {
        "id": "80Dw_C8Dqpge"
      },
      "outputs": [],
      "source": [
        "client = OpenAI(\n",
        "    # defaults to os.environ.get(\"OPENAI_API_KEY\")\n",
        "    api_key=\"YOUR KEY\",\n",
        ")"
      ]
    },
    {
      "cell_type": "markdown",
      "metadata": {
        "id": "PgPJCBvjAUSn"
      },
      "source": [
        "## Execute"
      ]
    },
    {
      "cell_type": "code",
      "execution_count": null,
      "metadata": {
        "id": "UO7QTEJsBm0a"
      },
      "outputs": [],
      "source": [
        "adjectives_sol = [\"highly detailed and elaborate\", \"succinct\", \"brief\", \"concise\", \"short\", \"comprehensive\", \"long\", \"5-paragraph\", \"3-paragraph\", \"medium-length\"]\n",
        "\n",
        "adjectives_prob = [\"highly detailed and elaborate\", \"succinct\", \"brief\", \"concise\", \"short\", \"comprehensive\", \"long\", \"5-paragraph\", \"3-paragraph\", \"medium-length\", \"very precise and elaborate\", \"20-sentence\"]\n",
        "\n",
        "k = 125\n",
        "\n",
        "random.seed(42)  # For reproducibility, if needed\n",
        "\n",
        "adjectives_solution = random.choices(adjectives_sol, k=k)\n",
        "adjectives_problem = random.choices(adjectives_prob, k=k)"
      ]
    },
    {
      "cell_type": "code",
      "execution_count": null,
      "metadata": {
        "colab": {
          "base_uri": "https://localhost:8080/"
        },
        "id": "IQ77934jK2rw",
        "outputId": "e513a4ff-45d3-4ee1-f37a-ebd6874574d0"
      },
      "outputs": [
        {
          "output_type": "stream",
          "name": "stdout",
          "text": [
            "Mounted at /content/gdrive\n"
          ]
        }
      ],
      "source": [
        "# Import necessary libraries\n",
        "import re\n",
        "from google.colab import files\n",
        "from google.colab import drive\n",
        "drive.mount('/content/gdrive')\n",
        "\n",
        "import os\n",
        "import datetime"
      ]
    },
    {
      "cell_type": "markdown",
      "source": [
        "### Utils functions:"
      ],
      "metadata": {
        "id": "UsDbgTbAfBL4"
      }
    },
    {
      "cell_type": "code",
      "source": [
        "def make_distribution_length_plot(entries):\n",
        "    \"\"\"\n",
        "    Creates a histogram of the distribution of problem and solution text lengths.\n",
        "\n",
        "    Args:\n",
        "        entries (pd.Series): A pandas Series containing problem-solution pairs.\n",
        "            Each entry should be a string formatted as \"Problem: <problem text>\n",
        "            Solution: <solution text>\".\n",
        "\n",
        "    Raises:\n",
        "        ValueError: If the input data is not a pandas Series.\n",
        "        KeyError: If the 'Problem:' or 'Solution:' keys are not found in the data.\n",
        "    \"\"\"\n",
        "\n",
        "    if not isinstance(entries, pd.Series):\n",
        "        raise ValueError(\"Input data must be a pandas Series.\")\n",
        "\n",
        "    # Extract problem and solution texts using regular expressions\n",
        "    try:\n",
        "        problem_texts = entries.str.extract(r\"Problem: (.*?)Solution:\", expand=False, flags=re.DOTALL)\n",
        "        solution_texts = entries.str.extract(r\"Solution: (.*)\", expand=False, flags=re.DOTALL)\n",
        "    except KeyError as e:\n",
        "        raise KeyError(f\"Missing key(s): {e}\") from e\n",
        "\n",
        "    # Handle multi-line texts by replacing newlines with spaces\n",
        "    problem_texts = problem_texts.str.replace(\"\\n\", \" \")\n",
        "    solution_texts = solution_texts.str.replace(\"\\n\", \" \")\n",
        "\n",
        "    # Calculate text lengths\n",
        "    problem_lengths = problem_texts.str.len()\n",
        "    solution_lengths = solution_texts.str.len()\n",
        "\n",
        "    # Create the histogram plot\n",
        "    plt.figure(figsize=(10, 6))\n",
        "    plt.hist(problem_lengths, bins=10, alpha=0.5, label=\"Problems\")\n",
        "    plt.hist(solution_lengths, bins=10, alpha=0.5, label=\"Solutions\")\n",
        "    plt.xlabel(\"Length\")\n",
        "    plt.ylabel(\"Frequency\")\n",
        "    plt.title(\"Histogram of Problem and Solution Lengths\")\n",
        "    plt.legend()\n",
        "\n",
        "    # Ensure plot is shown even in production environments\n",
        "    plt.show()"
      ],
      "metadata": {
        "id": "dcSt276Ze36o"
      },
      "execution_count": null,
      "outputs": []
    },
    {
      "cell_type": "code",
      "source": [
        "def create_df_answers(entries, p_list, s_list, persona, level_name):\n",
        "    \"\"\"\n",
        "    Creates a DataFrame from problem-solution pairs, adds metadata, saves it\n",
        "    to Google Drive, and optionally downloads it locally.\n",
        "\n",
        "    Args:\n",
        "        entries (pd.Series): A Series of problem-solution text pairs formatted\n",
        "                             as \"Problem: <problem text> Solution: <solution text>\".\n",
        "        p_list (list): A list of adjectives for problems, corresponding to each entry.\n",
        "        s_list (list): A list of adjectives for solutions, corresponding to each entry.\n",
        "        persona (str): The desired persona (if any).\n",
        "        level_name (str): The name of the level the entries belong to.\n",
        "\n",
        "    Returns:\n",
        "        pd.DataFrame: The DataFrame containing all the data.\n",
        "\n",
        "    Raises:\n",
        "        ValueError: If input data lengths don't match.\n",
        "        OSError: If issues occur during Google Drive interactions.\n",
        "    \"\"\"\n",
        "\n",
        "    # Input validation\n",
        "    lengths = [len(entries), len(p_list), len(s_list)]\n",
        "    if not all(x == lengths[0] for x in lengths):\n",
        "        raise ValueError(\"Input entries, problem adjectives, and solution adjectives must have the same length.\")\n",
        "\n",
        "    # Mount Google Drive (modify the path as needed)\n",
        "    folder_path = '/content/gdrive/My Drive/CircularEconAnswers'\n",
        "    try:\n",
        "        os.makedirs(folder_path, exist_ok=True)  # Create folder if it doesn't exist\n",
        "    except OSError as e:\n",
        "        raise OSError(f\"Error creating Google Drive folder '{folder_path}': {e}\") from e\n",
        "\n",
        "    # Extract problem and solution texts\n",
        "    try:\n",
        "        problem_texts = entries.str.extract(r\"Problem: (.*?)Solution:\", expand=False, flags=re.DOTALL)\n",
        "        solution_texts = entries.str.extract(r\"Solution: (.*)\", expand=False, flags=re.DOTALL)\n",
        "    except KeyError as e:\n",
        "        raise KeyError(f\"Missing key(s): {e}\") from e\n",
        "\n",
        "    # Handle multi-line texts\n",
        "    problem_texts = problem_texts.str.replace(\"\\n\", \" \")\n",
        "    solution_texts = solution_texts.str.replace(\"\\n\", \" \")\n",
        "\n",
        "    # Create the DataFrame\n",
        "    df = pd.DataFrame({\n",
        "        \"level\": level_name,\n",
        "        \"problem\": problem_texts,\n",
        "        \"solution\": solution_texts,\n",
        "        \"problem_adjective\": p_list,\n",
        "        \"solution_adjective\": s_list,\n",
        "        \"persona\": persona if persona is not None else np.nan\n",
        "    })\n",
        "\n",
        "    # Generate filename with timestamp\n",
        "    current_time = datetime.datetime.now().strftime(\"%Y%m%d_%H%M\")\n",
        "    csv_filename = f\"{level_name}_{current_time}.csv\"\n",
        "\n",
        "    # Save to Google Drive\n",
        "    try:\n",
        "        df.to_csv(os.path.join(folder_path, csv_filename), index=False)\n",
        "    except OSError as e:\n",
        "        raise OSError(f\"Error saving to Google Drive: {e}\") from e\n",
        "\n",
        "    # Optional download (remove if not needed in production)\n",
        "    if 'google.colab' in str(get_ipython()):  # Check if running in Colab\n",
        "        files.download(os.path.join(folder_path, csv_filename))\n",
        "\n",
        "    return df\n"
      ],
      "metadata": {
        "id": "DhUFk7tEfShA"
      },
      "execution_count": null,
      "outputs": []
    },
    {
      "cell_type": "markdown",
      "metadata": {
        "id": "4imrCRwxPlCa"
      },
      "source": [
        "# LEVEL 1M: n instances, base prompt"
      ]
    },
    {
      "cell_type": "code",
      "execution_count": null,
      "metadata": {
        "id": "YhnZJ0XnPtI_"
      },
      "outputs": [],
      "source": [
        "default_context_level1M = \"\"\" We are excited to announce an opportunity for freelancers to collaborate with researchers at the Digital, Data, and Design Institute at Harvard to source the most innovative and cutting-edge circular economy solutions for the business world.\n",
        "\n",
        "Circular Economy is a simple idea.\n",
        "\n",
        "Basically it involves sharing, leasing, reusing, repairing, refurbishing and recycling existing materials and products as long as possible.\n",
        "\n",
        "We would like you to submit your circular economy idea, which can be a unique new idea or an existent idea that is used in the industry.\n",
        "\n",
        "Here is an example: Car Sharing in order to reduce the carbon footprint associated with driving.\n",
        "\n",
        "Submit your real-life use cases on how companies can implement the circular economy in their businesses. New ideas are also welcome, even if they are 'moonshots'. Your suggestions will help Harvard researchers understand the impact of the circular economy on business. Let's get creative and revolutionize the world through the circular economy!\n",
        "\n",
        "Your goal is to win the top monetary prizes. Judges will use the following evaluation criteria:\n",
        "* Novelty (How different is it from existing solutions?)\n",
        "* Environmental Impact (How much does it benefit the planet?)\n",
        "* Financial Impact (What financial value can it create for businesses?)\n",
        "* Feasibility and Scalability of Implementation (How likely is it to succeed and how scalable is it?)\n",
        "\"\"\""
      ]
    },
    {
      "cell_type": "code",
      "execution_count": null,
      "metadata": {
        "id": "bvQFEEAYtpyy"
      },
      "outputs": [],
      "source": [
        "prompt_level_1M = \"\"\"Answer the following two questions to propose a circular economy idea that could win the challenge according to the evaluation criteria.\n",
        "\n",
        "Problem: Tell us about the problem your solution is meant to solve.\n",
        "\n",
        "Solution: Describe the solution in your own words.\n",
        "\n",
        "Use the following template to answer:\n",
        "Problem: <Write a high quality, concise1 answer.>\n",
        "Solution: <Write a high quality, concise2 solution.>\n",
        "\"\"\""
      ]
    },
    {
      "cell_type": "code",
      "execution_count": null,
      "metadata": {
        "id": "MMrmijFa4GEp"
      },
      "outputs": [],
      "source": [
        "def generate_responses_level1M(n, prompt, column_name, default_context, adjectives_problem, adjectives_solution):\n",
        "    \"\"\"\n",
        "    Generates responses using GPT-4, tracks generation times, and calculates statistics.\n",
        "\n",
        "    Args:\n",
        "        n (int): Number of responses to generate.\n",
        "        prompt (str): Base prompt with placeholders for adjectives.\n",
        "        default_context (str): Instructions/context for the GPT-4 model.\n",
        "        adjectives_problem (list): List of adjectives describing the problems.\n",
        "        adjectives_solution (list): List of adjectives describing the solutions.\n",
        "        client (openai.Client): Pre-configured OpenAI API client.\n",
        "\n",
        "    Returns:\n",
        "        tuple: (\n",
        "            pd.Series: Generated responses.\n",
        "            pd.Series: Problem adjectives used.\n",
        "            pd.Series: Solution adjectives used.\n",
        "        )\n",
        "    \"\"\"\n",
        "    # create an empty list to store the responses generated by the GPT-4 model\n",
        "    responses = []\n",
        "    adjectives_problem_list, adjectives_solution_list = [], []\n",
        "\n",
        "    # List to store the generation times\n",
        "    generation_times = []\n",
        "\n",
        "    # iterate over each row in the input DataFrame using the iterrows() function,\n",
        "    # which returns the index and the data of each row as a Series\n",
        "    for i in tqdm(range(n)):\n",
        "        # select a random adjective from the provided list\n",
        "        adj1 = adjectives_problem[i]\n",
        "        adj2 = adjectives_solution[i]\n",
        "\n",
        "        adjectives_problem_list.append(adj1)\n",
        "        adjectives_solution_list.append(adj2)\n",
        "\n",
        "        # replace \"concise\" with the randomly selected adjective in the default context\n",
        "        content = prompt.replace(\"concise1\", adj1)\n",
        "        content = content.replace(\"concise2\", adj2)\n",
        "\n",
        "        # Start the timer\n",
        "        start_time = time.time()\n",
        "\n",
        "        # call OpenAI's ChatCompletion.create method to generate a response from the GPT-4 model.\n",
        "        # the \"messages\" parameter is a list of two dictionaries:\n",
        "        # - the first dictionary represents a system message with the content string\n",
        "        # - the second dictionary represents a user message with the provided prompt\n",
        "        response = client.chat.completions.create(\n",
        "            model=\"gpt-4\",\n",
        "            messages=[\n",
        "                {\"role\": \"system\", \"content\": default_context},\n",
        "                {\"role\": \"user\", \"content\": content}\n",
        "            ],\n",
        "            temperature=1)  # This is the default value)\n",
        "\n",
        "        # Stop the timer\n",
        "        end_time = time.time()\n",
        "\n",
        "        # Append the time taken to the list\n",
        "        generation_times.append(end_time - start_time)\n",
        "\n",
        "        # assuming the response object has a 'choices' attribute that contains the response text,\n",
        "        # extract the generated text from the response object and append it to the responses list\n",
        "        responses.append(response.choices[0].message.content)\n",
        "\n",
        "    # Compute the required statistics\n",
        "    min_time = np.min(generation_times)\n",
        "    max_time = np.max(generation_times)\n",
        "    avg_time = np.mean(generation_times)\n",
        "    std_time = np.std(generation_times)\n",
        "\n",
        "    print(f\"Min Generation Time: {min_time} seconds\")\n",
        "    print(f\"Max Generation Time: {max_time} seconds\")\n",
        "    print(f\"Average Generation Time: {avg_time} seconds\")\n",
        "    print(f\"Standard Deviation of Generation Time: {std_time} seconds\")\n",
        "\n",
        "    # return the modified DataFrame\n",
        "    return pd.Series(responses), pd.Series(adjectives_problem_list), pd.Series(adjectives_solution_list)"
      ]
    },
    {
      "cell_type": "code",
      "execution_count": null,
      "metadata": {
        "colab": {
          "base_uri": "https://localhost:8080/",
          "height": 104
        },
        "id": "ujI0lqB-BvXn",
        "outputId": "0a66dbc8-59cf-4fc0-d46a-4f6e4700f46f"
      },
      "outputs": [
        {
          "output_type": "stream",
          "name": "stderr",
          "text": [
            "100%|██████████| 5/5 [02:28<00:00, 29.66s/it]"
          ]
        },
        {
          "output_type": "stream",
          "name": "stdout",
          "text": [
            "Min Generation Time: 18.81748604774475 seconds\n",
            "Max Generation Time: 40.60390043258667 seconds\n",
            "Average Generation Time: 29.66250047683716 seconds\n",
            "Standard Deviation of Generation Time: 7.299587826081126 seconds\n"
          ]
        },
        {
          "output_type": "stream",
          "name": "stderr",
          "text": [
            "\n"
          ]
        },
        {
          "output_type": "display_data",
          "data": {
            "text/plain": [
              "<IPython.core.display.Javascript object>"
            ],
            "application/javascript": [
              "\n",
              "    async function download(id, filename, size) {\n",
              "      if (!google.colab.kernel.accessAllowed) {\n",
              "        return;\n",
              "      }\n",
              "      const div = document.createElement('div');\n",
              "      const label = document.createElement('label');\n",
              "      label.textContent = `Downloading \"${filename}\": `;\n",
              "      div.appendChild(label);\n",
              "      const progress = document.createElement('progress');\n",
              "      progress.max = size;\n",
              "      div.appendChild(progress);\n",
              "      document.body.appendChild(div);\n",
              "\n",
              "      const buffers = [];\n",
              "      let downloaded = 0;\n",
              "\n",
              "      const channel = await google.colab.kernel.comms.open(id);\n",
              "      // Send a message to notify the kernel that we're ready.\n",
              "      channel.send({})\n",
              "\n",
              "      for await (const message of channel.messages) {\n",
              "        // Send a message to notify the kernel that we're ready.\n",
              "        channel.send({})\n",
              "        if (message.buffers) {\n",
              "          for (const buffer of message.buffers) {\n",
              "            buffers.push(buffer);\n",
              "            downloaded += buffer.byteLength;\n",
              "            progress.value = downloaded;\n",
              "          }\n",
              "        }\n",
              "      }\n",
              "      const blob = new Blob(buffers, {type: 'application/binary'});\n",
              "      const a = document.createElement('a');\n",
              "      a.href = window.URL.createObjectURL(blob);\n",
              "      a.download = filename;\n",
              "      div.appendChild(a);\n",
              "      a.click();\n",
              "      div.remove();\n",
              "    }\n",
              "  "
            ]
          },
          "metadata": {}
        },
        {
          "output_type": "display_data",
          "data": {
            "text/plain": [
              "<IPython.core.display.Javascript object>"
            ],
            "application/javascript": [
              "download(\"download_88e8862f-57c8-4ab1-bc2a-df5a8f547346\", \"Level1M_20240213_1757.csv\", 10377)"
            ]
          },
          "metadata": {}
        }
      ],
      "source": [
        "# TODO Change n\n",
        "n_answers = 5 #TODO Change to 100\n",
        "responses, p_list, s_list = generate_responses_level1M(n_answers, prompt_level_1M, 'LEVEL1M', default_context_level1M, adjectives_problem, adjectives_solution)\n",
        "df_1M = create_df_answers(responses, p_list, s_list, persona = None, level_name = \"Level1M\")"
      ]
    },
    {
      "cell_type": "code",
      "execution_count": null,
      "metadata": {
        "colab": {
          "base_uri": "https://localhost:8080/",
          "height": 564
        },
        "id": "FWYp8AaHK9ER",
        "outputId": "7e59409f-fac5-4fe7-ef9c-a333f5fb732d"
      },
      "outputs": [
        {
          "output_type": "display_data",
          "data": {
            "text/plain": [
              "<Figure size 1000x600 with 1 Axes>"
            ],
            "image/png": "[encoded data removed]"
          },
          "metadata": {}
        }
      ],
      "source": [
        "make_distribution_length_plot(responses)"
      ]
    },
    {
      "cell_type": "code",
      "execution_count": null,
      "metadata": {
        "colab": {
          "base_uri": "https://localhost:8080/",
          "height": 52
        },
        "id": "kftSQsmtIKLe",
        "outputId": "13041fdc-c56c-43c5-fea5-a2939b09284f"
      },
      "outputs": [
        {
          "output_type": "execute_result",
          "data": {
            "text/plain": [
              "'One of the most significant problems facing the environment today is the rampant use and disposal of plastics. These materials are not biodegradable and take hundreds of years to decompose, leading to significant pollution in our oceans and landfills. This problem is exacerbated by the fact that the production of new plastic is cheaper than recycling existing plastic, leading many companies to opt for the former.   '"
            ],
            "application/vnd.google.colaboratory.intrinsic+json": {
              "type": "string"
            }
          },
          "metadata": {},
          "execution_count": 24
        }
      ],
      "source": [
        "df_1M['problem'][4]"
      ]
    },
    {
      "cell_type": "code",
      "source": [
        "df_1M['problem'][0]"
      ],
      "metadata": {
        "colab": {
          "base_uri": "https://localhost:8080/",
          "height": 52
        },
        "id": "zrTfnqTLnDSM",
        "outputId": "c518bc0f-90ec-47a1-d34e-037d6335469b"
      },
      "execution_count": null,
      "outputs": [
        {
          "output_type": "execute_result",
          "data": {
            "text/plain": [
              "'The alarming rise of electronic waste (e-waste) due to the constant upgrading and purchasing of new electronic devices is contributing to a major environmental problem. It not only puts a strain on the limited resources available for manufacture of these electronic products but also results to harmful waste which ends up in landfills, improperly disposed and causing environmental degradation.  '"
            ],
            "application/vnd.google.colaboratory.intrinsic+json": {
              "type": "string"
            }
          },
          "metadata": {},
          "execution_count": 27
        }
      ]
    },
    {
      "cell_type": "markdown",
      "metadata": {
        "id": "8sylYt5pQcJw"
      },
      "source": [
        "# LEVEL 2M: n instances with persona"
      ]
    },
    {
      "cell_type": "code",
      "execution_count": null,
      "metadata": {
        "id": "WgQREK55BglT"
      },
      "outputs": [],
      "source": [
        "default_context_level2M = \"\"\" We are excited to announce an opportunity for freelancers to collaborate with researchers at the Digital, Data, and Design Institute at Harvard to source the most innovative and cutting-edge circular economy solutions for the business world.\n",
        "\n",
        "Circular Economy is a simple idea.\n",
        "\n",
        "Basically it involves sharing, leasing, reusing, repairing, refurbishing and recycling existing materials and products as long as possible.\n",
        "\n",
        "We would like you to submit your circular economy idea, which can be a unique new idea or an existent idea that is used in the industry.\n",
        "\n",
        "Here is an example: Car Sharing in order to reduce the carbon footprint associated with driving.\n",
        "\n",
        "Submit your real-life use cases on how companies can implement the circular economy in their businesses. New ideas are also welcome, even if they are 'moonshots'. Your suggestions will help Harvard researchers understand the impact of the circular economy on business. Let's get creative and revolutionize the world through the circular economy!\n",
        "\n",
        "Your goal is to win the top monetary prizes by satisfying to the maximum the following evaluation criteria.\n",
        "* Novelty (How different is it from existing solutions?)\n",
        "* Environmental Impact (How much does it benefit the planet?)\n",
        "* Financial Impact (What financial value can it create for businesses?)\n",
        "* Feasibility and Scalability of Implementation (How likely is it to succeed and how scalable is it?)\n",
        "\n",
        "To answer the question, you will take the perspective of the following persona:\n",
        "\"\"\"\n",
        "\n",
        "\n",
        "prompt_level2M = \"\"\"Answer the following two questions to propose a circular economy idea that could win the challenge according to the evaluation criteria.\n",
        "\n",
        "Problem: Tell us about the problem your solution is meant to solve.\n",
        "\n",
        "Solution: Describe the solution in your own words.\n",
        "\n",
        "Use the following template to answer:\n",
        "Problem: <Write a high quality, concise1 answer, corresponding to the personality, inspiration, and knowledge of your persona.>\n",
        "Solution: <Write a high quality, concise2 solution, corresponding to the personality, inspiration, and knowledge of your persona.>\n",
        "\"\"\""
      ]
    },
    {
      "cell_type": "code",
      "execution_count": null,
      "metadata": {
        "id": "pOgGhh1V9BJ9"
      },
      "outputs": [],
      "source": [
        "# Assuming your original DataFrame is called 'df'\n",
        "\n",
        "# Create a new DataFrame with the sentence column\n",
        "new_df = df.copy()\n",
        "new_df[\"sentence\"] = \"\"\n",
        "\n",
        "# Iterate over each row and generate the sentence\n",
        "for index, row in new_df.iterrows():\n",
        "    sentence = \"\"\n",
        "\n",
        "    if not pd.isna(row[\"New.Job.Title\"]):\n",
        "        sentence += f\"You are a {row['New.Job.Title']},\"\n",
        "\n",
        "    if not pd.isna(row[\"continent\"]):\n",
        "        if sentence:\n",
        "            sentence += \" located in\"\n",
        "        sentence += f\" {row['continent']}.\"\n",
        "\n",
        "    if not pd.isna(row[\"New.Industry.of.Solution\"]):\n",
        "        if sentence:\n",
        "            sentence += \" You propose a solution that applies to\"\n",
        "        sentence += f\" {row['New.Industry.of.Solution']}.\"\n",
        "\n",
        "    if not pd.isna(row[\"What.is.the.maturity.of.the.solution.\"]):\n",
        "        if sentence:\n",
        "            sentence += \" The maturity of your solution is\"\n",
        "        sentence += f\" {row['What.is.the.maturity.of.the.solution.']}.\"\n",
        "\n",
        "    new_df.at[index, \"sentence\"] = sentence"
      ]
    },
    {
      "cell_type": "code",
      "source": [
        "def generate_responses_level2M(df, prompt, column_name, default_context, adjectives_problem, adjectives_solution):\n",
        "    responses = []\n",
        "    adjectives_problem_list, adjectives_solution_list = [], []\n",
        "\n",
        "    # List to store the generation times\n",
        "    generation_times = []\n",
        "\n",
        "    for i, row in tqdm(df.iterrows(), total=df.shape[0]):\n",
        "\n",
        "        adj1 = adjectives_problem[i]\n",
        "        adj2 = adjectives_solution[i]\n",
        "\n",
        "        adjectives_problem_list.append(adj1)\n",
        "        adjectives_solution_list.append(adj2)\n",
        "\n",
        "        # replace \"concise\" with the randomly selected adjective in the default context\n",
        "        new_prompt = prompt.replace(\"concise1\", adj1)\n",
        "        new_prompt = new_prompt.replace(\"concise2\", adj2)\n",
        "\n",
        "        content = default_context + row[\"sentence\"]\n",
        "\n",
        "        # Start the timer\n",
        "        start_time = time.time()\n",
        "\n",
        "        try:\n",
        "            response = client.chat.completions.create(\n",
        "                model=\"gpt-4\",\n",
        "                messages=[\n",
        "                    {\"role\": \"system\", \"content\": content},\n",
        "                    {\"role\": \"user\", \"content\": new_prompt}\n",
        "                ])\n",
        "            responses.append(response.choices[0].message.content)\n",
        "        except Exception as e:\n",
        "            print(f\"Error on row {i}: {e}\")\n",
        "            response = client.chat.completions.create(\n",
        "                model=\"gpt-4\",\n",
        "                messages=[\n",
        "                    {\"role\": \"system\", \"content\": content},\n",
        "                    {\"role\": \"user\", \"content\": new_prompt}\n",
        "                ])\n",
        "            responses.append(response.choices[0].message.content)\n",
        "\n",
        "        # Stop the timer and store the generation time\n",
        "        end_time = time.time()\n",
        "        generation_times.append(end_time - start_time)\n",
        "\n",
        "    # Compute the required statistics\n",
        "    min_time = np.min(generation_times)\n",
        "    max_time = np.max(generation_times)\n",
        "    avg_time = np.mean(generation_times)\n",
        "    std_time = np.std(generation_times)\n",
        "\n",
        "    print(f\"Min Generation Time: {min_time} seconds\")\n",
        "    print(f\"Max Generation Time: {max_time} seconds\")\n",
        "    print(f\"Average Generation Time: {avg_time} seconds\")\n",
        "    print(f\"Standard Deviation of Generation Time: {std_time} seconds\")\n",
        "\n",
        "    return pd.Series(responses), pd.Series(adjectives_problem_list), pd.Series(adjectives_solution_list)\n"
      ],
      "metadata": {
        "id": "MUJUPEa4aYHA"
      },
      "execution_count": null,
      "outputs": []
    },
    {
      "cell_type": "code",
      "source": [
        "n = 2 #TODO Change to 100\n",
        "level2M, p_list, s_list = generate_responses_level2M(new_df[:n], prompt_level2M, 'LEVEL_2M',  default_context_level2M, adjectives_problem, adjectives_solution)\n",
        "df_2M = create_df_answers(level2M, p_list, s_list, persona = new_df[\"sentence\"][:n], level_name = \"Level2M\")"
      ],
      "metadata": {
        "colab": {
          "base_uri": "https://localhost:8080/",
          "height": 104
        },
        "id": "zBVLrTYaadIs",
        "outputId": "f1168ff4-6ce5-4cf1-8a3c-68066b70ab7f"
      },
      "execution_count": null,
      "outputs": [
        {
          "output_type": "stream",
          "name": "stderr",
          "text": [
            "100%|██████████| 2/2 [01:12<00:00, 36.34s/it]"
          ]
        },
        {
          "output_type": "stream",
          "name": "stdout",
          "text": [
            "Min Generation Time: 34.093013763427734 seconds\n",
            "Max Generation Time: 38.583587408065796 seconds\n",
            "Average Generation Time: 36.338300585746765 seconds\n",
            "Standard Deviation of Generation Time: 2.2452868223190308 seconds\n"
          ]
        },
        {
          "output_type": "stream",
          "name": "stderr",
          "text": [
            "\n"
          ]
        },
        {
          "output_type": "display_data",
          "data": {
            "text/plain": [
              "<IPython.core.display.Javascript object>"
            ],
            "application/javascript": [
              "\n",
              "    async function download(id, filename, size) {\n",
              "      if (!google.colab.kernel.accessAllowed) {\n",
              "        return;\n",
              "      }\n",
              "      const div = document.createElement('div');\n",
              "      const label = document.createElement('label');\n",
              "      label.textContent = `Downloading \"${filename}\": `;\n",
              "      div.appendChild(label);\n",
              "      const progress = document.createElement('progress');\n",
              "      progress.max = size;\n",
              "      div.appendChild(progress);\n",
              "      document.body.appendChild(div);\n",
              "\n",
              "      const buffers = [];\n",
              "      let downloaded = 0;\n",
              "\n",
              "      const channel = await google.colab.kernel.comms.open(id);\n",
              "      // Send a message to notify the kernel that we're ready.\n",
              "      channel.send({})\n",
              "\n",
              "      for await (const message of channel.messages) {\n",
              "        // Send a message to notify the kernel that we're ready.\n",
              "        channel.send({})\n",
              "        if (message.buffers) {\n",
              "          for (const buffer of message.buffers) {\n",
              "            buffers.push(buffer);\n",
              "            downloaded += buffer.byteLength;\n",
              "            progress.value = downloaded;\n",
              "          }\n",
              "        }\n",
              "      }\n",
              "      const blob = new Blob(buffers, {type: 'application/binary'});\n",
              "      const a = document.createElement('a');\n",
              "      a.href = window.URL.createObjectURL(blob);\n",
              "      a.download = filename;\n",
              "      div.appendChild(a);\n",
              "      a.click();\n",
              "      div.remove();\n",
              "    }\n",
              "  "
            ]
          },
          "metadata": {}
        },
        {
          "output_type": "display_data",
          "data": {
            "text/plain": [
              "<IPython.core.display.Javascript object>"
            ],
            "application/javascript": [
              "download(\"download_e7d9bde5-2547-420d-81f9-db9f1d59ee0a\", \"Level2M_20240213_0907.csv\", 5955)"
            ]
          },
          "metadata": {}
        }
      ]
    },
    {
      "cell_type": "code",
      "execution_count": null,
      "metadata": {
        "colab": {
          "base_uri": "https://localhost:8080/",
          "height": 564
        },
        "id": "v1BE6V6VN2Qb",
        "outputId": "a20c8e8a-aaa9-4005-f424-8616e12e2574"
      },
      "outputs": [
        {
          "output_type": "display_data",
          "data": {
            "text/plain": [
              "<Figure size 1000x600 with 1 Axes>"
            ],
            "image/png": "[encoded data removed]"
          },
          "metadata": {}
        }
      ],
      "source": [
        "make_distribution_length_plot(level2M)"
      ]
    },
    {
      "cell_type": "code",
      "execution_count": null,
      "metadata": {
        "colab": {
          "base_uri": "https://localhost:8080/",
          "height": 112
        },
        "id": "Pd_fPeqHSJsh",
        "outputId": "eaa74f56-655d-478b-b9ff-2eee8649c345"
      },
      "outputs": [
        {
          "output_type": "execute_result",
          "data": {
            "text/plain": [
              "     level                                            problem  \\\n",
              "0  Level2M  In developing countries, particularly in Afric...   \n",
              "1  Level2M  In Africa, both urban and rural areas are faci...   \n",
              "\n",
              "                                            solution  \\\n",
              "0  My solution is the set-up of a decentralized, ...   \n",
              "1  To address these problems, I propose an innova...   \n",
              "\n",
              "               problem_adjective             solution_adjective  \\\n",
              "0                        concise                           long   \n",
              "1  highly detailed and elaborate  highly detailed and elaborate   \n",
              "\n",
              "                                             persona  \n",
              "0  You are a Executives, Managers, and Entreprene...  \n",
              "1  You are a Executives, Managers, and Entreprene...  "
            ],
            "text/html": [
              "\n",
              "  <div id=\"df-5544433c-9e93-4486-872a-14e8e598f099\" class=\"colab-df-container\">\n",
              "    <div>\n",
              "<style scoped>\n",
              "    .dataframe tbody tr th:only-of-type {\n",
              "        vertical-align: middle;\n",
              "    }\n",
              "\n",
              "    .dataframe tbody tr th {\n",
              "        vertical-align: top;\n",
              "    }\n",
              "\n",
              "    .dataframe thead th {\n",
              "        text-align: right;\n",
              "    }\n",
              "</style>\n",
              "<table border=\"1\" class=\"dataframe\">\n",
              "  <thead>\n",
              "    <tr style=\"text-align: right;\">\n",
              "      <th></th>\n",
              "      <th>level</th>\n",
              "      <th>problem</th>\n",
              "      <th>solution</th>\n",
              "      <th>problem_adjective</th>\n",
              "      <th>solution_adjective</th>\n",
              "      <th>persona</th>\n",
              "    </tr>\n",
              "  </thead>\n",
              "  <tbody>\n",
              "    <tr>\n",
              "      <th>0</th>\n",
              "      <td>Level2M</td>\n",
              "      <td>In developing countries, particularly in Afric...</td>\n",
              "      <td>My solution is the set-up of a decentralized, ...</td>\n",
              "      <td>concise</td>\n",
              "      <td>long</td>\n",
              "      <td>You are a Executives, Managers, and Entreprene...</td>\n",
              "    </tr>\n",
              "    <tr>\n",
              "      <th>1</th>\n",
              "      <td>Level2M</td>\n",
              "      <td>In Africa, both urban and rural areas are faci...</td>\n",
              "      <td>To address these problems, I propose an innova...</td>\n",
              "      <td>highly detailed and elaborate</td>\n",
              "      <td>highly detailed and elaborate</td>\n",
              "      <td>You are a Executives, Managers, and Entreprene...</td>\n",
              "    </tr>\n",
              "  </tbody>\n",
              "</table>\n",
              "</div>\n",
              "    <div class=\"colab-df-buttons\">\n",
              "\n",
              "  <div class=\"colab-df-container\">\n",
              "    <button class=\"colab-df-convert\" onclick=\"convertToInteractive('df-5544433c-9e93-4486-872a-14e8e598f099')\"\n",
              "            title=\"Convert this dataframe to an interactive table.\"\n",
              "            style=\"display:none;\">\n",
              "\n",
              "  <svg xmlns=\"http://www.w3.org/2000/svg\" height=\"24px\" viewBox=\"0 -960 960 960\">\n",
              "    <path d=\"M120-120v-720h720v720H120Zm60-500h600v-160H180v160Zm220 220h160v-160H400v160Zm0 220h160v-160H400v160ZM180-400h160v-160H180v160Zm440 0h160v-160H620v160ZM180-180h160v-160H180v160Zm440 0h160v-160H620v160Z\"/>\n",
              "  </svg>\n",
              "    </button>\n",
              "\n",
              "  <style>\n",
              "    .colab-df-container {\n",
              "      display:flex;\n",
              "      gap: 12px;\n",
              "    }\n",
              "\n",
              "    .colab-df-convert {\n",
              "      background-color: #E8F0FE;\n",
              "      border: none;\n",
              "      border-radius: 50%;\n",
              "      cursor: pointer;\n",
              "      display: none;\n",
              "      fill: #1967D2;\n",
              "      height: 32px;\n",
              "      padding: 0 0 0 0;\n",
              "      width: 32px;\n",
              "    }\n",
              "\n",
              "    .colab-df-convert:hover {\n",
              "      background-color: #E2EBFA;\n",
              "      box-shadow: 0px 1px 2px rgba(60, 64, 67, 0.3), 0px 1px 3px 1px rgba(60, 64, 67, 0.15);\n",
              "      fill: #174EA6;\n",
              "    }\n",
              "\n",
              "    .colab-df-buttons div {\n",
              "      margin-bottom: 4px;\n",
              "    }\n",
              "\n",
              "    [theme=dark] .colab-df-convert {\n",
              "      background-color: #3B4455;\n",
              "      fill: #D2E3FC;\n",
              "    }\n",
              "\n",
              "    [theme=dark] .colab-df-convert:hover {\n",
              "      background-color: #434B5C;\n",
              "      box-shadow: 0px 1px 3px 1px rgba(0, 0, 0, 0.15);\n",
              "      filter: drop-shadow(0px 1px 2px rgba(0, 0, 0, 0.3));\n",
              "      fill: #FFFFFF;\n",
              "    }\n",
              "  </style>\n",
              "\n",
              "    <script>\n",
              "      const buttonEl =\n",
              "        document.querySelector('#df-5544433c-9e93-4486-872a-14e8e598f099 button.colab-df-convert');\n",
              "      buttonEl.style.display =\n",
              "        google.colab.kernel.accessAllowed ? 'block' : 'none';\n",
              "\n",
              "      async function convertToInteractive(key) {\n",
              "        const element = document.querySelector('#df-5544433c-9e93-4486-872a-14e8e598f099');\n",
              "        const dataTable =\n",
              "          await google.colab.kernel.invokeFunction('convertToInteractive',\n",
              "                                                    [key], {});\n",
              "        if (!dataTable) return;\n",
              "\n",
              "        const docLinkHtml = 'Like what you see? Visit the ' +\n",
              "          '<a target=\"_blank\" href=https://colab.research.google.com/notebooks/data_table.ipynb>data table notebook</a>'\n",
              "          + ' to learn more about interactive tables.';\n",
              "        element.innerHTML = '';\n",
              "        dataTable['output_type'] = 'display_data';\n",
              "        await google.colab.output.renderOutput(dataTable, element);\n",
              "        const docLink = document.createElement('div');\n",
              "        docLink.innerHTML = docLinkHtml;\n",
              "        element.appendChild(docLink);\n",
              "      }\n",
              "    </script>\n",
              "  </div>\n",
              "\n",
              "\n",
              "<div id=\"df-c19d052f-61ad-4c81-bfea-5ae76073c1d6\">\n",
              "  <button class=\"colab-df-quickchart\" onclick=\"quickchart('df-c19d052f-61ad-4c81-bfea-5ae76073c1d6')\"\n",
              "            title=\"Suggest charts\"\n",
              "            style=\"display:none;\">\n",
              "\n",
              "<svg xmlns=\"http://www.w3.org/2000/svg\" height=\"24px\"viewBox=\"0 0 24 24\"\n",
              "     width=\"24px\">\n",
              "    <g>\n",
              "        <path d=\"M19 3H5c-1.1 0-2 .9-2 2v14c0 1.1.9 2 2 2h14c1.1 0 2-.9 2-2V5c0-1.1-.9-2-2-2zM9 17H7v-7h2v7zm4 0h-2V7h2v10zm4 0h-2v-4h2v4z\"/>\n",
              "    </g>\n",
              "</svg>\n",
              "  </button>\n",
              "\n",
              "<style>\n",
              "  .colab-df-quickchart {\n",
              "      --bg-color: #E8F0FE;\n",
              "      --fill-color: #1967D2;\n",
              "      --hover-bg-color: #E2EBFA;\n",
              "      --hover-fill-color: #174EA6;\n",
              "      --disabled-fill-color: #AAA;\n",
              "      --disabled-bg-color: #DDD;\n",
              "  }\n",
              "\n",
              "  [theme=dark] .colab-df-quickchart {\n",
              "      --bg-color: #3B4455;\n",
              "      --fill-color: #D2E3FC;\n",
              "      --hover-bg-color: #434B5C;\n",
              "      --hover-fill-color: #FFFFFF;\n",
              "      --disabled-bg-color: #3B4455;\n",
              "      --disabled-fill-color: #666;\n",
              "  }\n",
              "\n",
              "  .colab-df-quickchart {\n",
              "    background-color: var(--bg-color);\n",
              "    border: none;\n",
              "    border-radius: 50%;\n",
              "    cursor: pointer;\n",
              "    display: none;\n",
              "    fill: var(--fill-color);\n",
              "    height: 32px;\n",
              "    padding: 0;\n",
              "    width: 32px;\n",
              "  }\n",
              "\n",
              "  .colab-df-quickchart:hover {\n",
              "    background-color: var(--hover-bg-color);\n",
              "    box-shadow: 0 1px 2px rgba(60, 64, 67, 0.3), 0 1px 3px 1px rgba(60, 64, 67, 0.15);\n",
              "    fill: var(--button-hover-fill-color);\n",
              "  }\n",
              "\n",
              "  .colab-df-quickchart-complete:disabled,\n",
              "  .colab-df-quickchart-complete:disabled:hover {\n",
              "    background-color: var(--disabled-bg-color);\n",
              "    fill: var(--disabled-fill-color);\n",
              "    box-shadow: none;\n",
              "  }\n",
              "\n",
              "  .colab-df-spinner {\n",
              "    border: 2px solid var(--fill-color);\n",
              "    border-color: transparent;\n",
              "    border-bottom-color: var(--fill-color);\n",
              "    animation:\n",
              "      spin 1s steps(1) infinite;\n",
              "  }\n",
              "\n",
              "  @keyframes spin {\n",
              "    0% {\n",
              "      border-color: transparent;\n",
              "      border-bottom-color: var(--fill-color);\n",
              "      border-left-color: var(--fill-color);\n",
              "    }\n",
              "    20% {\n",
              "      border-color: transparent;\n",
              "      border-left-color: var(--fill-color);\n",
              "      border-top-color: var(--fill-color);\n",
              "    }\n",
              "    30% {\n",
              "      border-color: transparent;\n",
              "      border-left-color: var(--fill-color);\n",
              "      border-top-color: var(--fill-color);\n",
              "      border-right-color: var(--fill-color);\n",
              "    }\n",
              "    40% {\n",
              "      border-color: transparent;\n",
              "      border-right-color: var(--fill-color);\n",
              "      border-top-color: var(--fill-color);\n",
              "    }\n",
              "    60% {\n",
              "      border-color: transparent;\n",
              "      border-right-color: var(--fill-color);\n",
              "    }\n",
              "    80% {\n",
              "      border-color: transparent;\n",
              "      border-right-color: var(--fill-color);\n",
              "      border-bottom-color: var(--fill-color);\n",
              "    }\n",
              "    90% {\n",
              "      border-color: transparent;\n",
              "      border-bottom-color: var(--fill-color);\n",
              "    }\n",
              "  }\n",
              "</style>\n",
              "\n",
              "  <script>\n",
              "    async function quickchart(key) {\n",
              "      const quickchartButtonEl =\n",
              "        document.querySelector('#' + key + ' button');\n",
              "      quickchartButtonEl.disabled = true;  // To prevent multiple clicks.\n",
              "      quickchartButtonEl.classList.add('colab-df-spinner');\n",
              "      try {\n",
              "        const charts = await google.colab.kernel.invokeFunction(\n",
              "            'suggestCharts', [key], {});\n",
              "      } catch (error) {\n",
              "        console.error('Error during call to suggestCharts:', error);\n",
              "      }\n",
              "      quickchartButtonEl.classList.remove('colab-df-spinner');\n",
              "      quickchartButtonEl.classList.add('colab-df-quickchart-complete');\n",
              "    }\n",
              "    (() => {\n",
              "      let quickchartButtonEl =\n",
              "        document.querySelector('#df-c19d052f-61ad-4c81-bfea-5ae76073c1d6 button');\n",
              "      quickchartButtonEl.style.display =\n",
              "        google.colab.kernel.accessAllowed ? 'block' : 'none';\n",
              "    })();\n",
              "  </script>\n",
              "</div>\n",
              "    </div>\n",
              "  </div>\n"
            ]
          },
          "metadata": {},
          "execution_count": 22
        }
      ],
      "source": [
        "df_2M"
      ]
    },
    {
      "cell_type": "markdown",
      "metadata": {
        "id": "JvrSTbL-mAKi"
      },
      "source": [
        "# Level 3M: n instances with expert persona"
      ]
    },
    {
      "cell_type": "code",
      "execution_count": null,
      "metadata": {
        "id": "MbEROx0DB_Nc"
      },
      "outputs": [],
      "source": [
        "experts_list_23fields_5experts = [\n",
        "    (\"Stella McCartney\", \"Apparel & Textiles\"),\n",
        "    (\"Eileen Fisher\", \"Apparel & Textiles\"),\n",
        "    (\"Yvon Chouinard\", \"Apparel & Textiles\"),\n",
        "    (\"Carry Somers\", \"Apparel & Textiles\"),\n",
        "    (\"Orsola de Castro\", \"Apparel & Textiles\"),\n",
        "\n",
        "    (\"Elon Musk\", \"Automobiles & Tires\"),\n",
        "    (\"Carlos Tavares\", \"Automobiles & Tires\"),\n",
        "    (\"Akio Toyoda\", \"Automobiles & Tires\"),\n",
        "    (\"Mary Barra\", \"Automobiles & Tires\"),\n",
        "    (\"Mate Rimac\", \"Automobiles & Tires\"),\n",
        "\n",
        "    (\"John Mackey\", \"Beverages\"),\n",
        "    (\"Denise Morrison\", \"Beverages\"),\n",
        "    (\"Emmanuel Faber\", \"Beverages\"),\n",
        "    (\"Howard Schultz\", \"Beverages\"),\n",
        "    (\"James Quincey\", \"Beverages\"),\n",
        "\n",
        "    (\"Dave Lennard\", \"Building Products\"),\n",
        "    (\"William McDonough\", \"Building Products\"),\n",
        "    (\"Thomas Rau\", \"Building Products\"),\n",
        "    (\"Andy Karsner\", \"Building Products\"),\n",
        "    (\"Michael Green\", \"Building Products\"),\n",
        "\n",
        "    (\"Rick Fedrizzi\", \"Buildings\"),\n",
        "    (\"Barry Giles\", \"Buildings\"),\n",
        "    (\"Edward Mazria\", \"Buildings\"),\n",
        "    (\"James Timberlake\", \"Buildings\"),\n",
        "    (\"Stephen Kieran\", \"Buildings\"),\n",
        "\n",
        "    (\"Scott Wine\", \"Construction Machinery\"),\n",
        "    (\"Max Guinn\", \"Construction Machinery\"),\n",
        "    (\"Raoul Jacquand\", \"Construction Machinery\"),\n",
        "    (\"Martin Weissburg\", \"Construction Machinery\"),\n",
        "    (\"Tom Linebarger\", \"Construction Machinery\"),\n",
        "\n",
        "    (\"Andrew Liveris\", \"Construction Materials\"),\n",
        "    (\"Bertrand Collomb\", \"Construction Materials\"),\n",
        "    (\"John Elkington\", \"Construction Materials\"),\n",
        "    (\"Bill Browning\", \"Construction Materials\"),\n",
        "    (\"Jan Jenisch\", \"Construction Materials\"),\n",
        "\n",
        "    (\"Tim Cook\", \"Consumer Electronics\"),\n",
        "    (\"Ren Zhengfei\", \"Consumer Electronics\"),\n",
        "    (\"Satya Nadella\", \"Consumer Electronics\"),\n",
        "    (\"Jensen Huang\", \"Consumer Electronics\"),\n",
        "    (\"Kenichiro Yoshida\", \"Consumer Electronics\"),\n",
        "\n",
        "    (\"Anthony Pratt\", \"Containers & Packaging\"),\n",
        "    (\"Mark Vergnano\", \"Containers & Packaging\"),\n",
        "    (\"Stefan De Loecker\", \"Containers & Packaging\"),\n",
        "    (\"John Hayes\", \"Containers & Packaging\"),\n",
        "    (\"Ramon Laguarta\", \"Containers & Packaging\"),\n",
        "\n",
        "    (\"Fabrizio Freda\", \"Cosmetics\"),\n",
        "    (\"Jean-Paul Agon\", \"Cosmetics\"),\n",
        "    (\"David Greenberg\", \"Cosmetics\"),\n",
        "    (\"Sue Y. Nabi\", \"Cosmetics\"),\n",
        "    (\"Alex Keith\", \"Cosmetics\"),\n",
        "\n",
        "    (\"Hubertus Muehlhaeuser\", \"Electrical Equipment\"),\n",
        "    (\"Simon Segars\", \"Electrical Equipment\"),\n",
        "    (\"Uday Yadav\", \"Electrical Equipment\"),\n",
        "    (\"Joe Hogan\", \"Electrical Equipment\"),\n",
        "    (\"Eric Rondolat\", \"Electrical Equipment\"),\n",
        "\n",
        "    (\"Larry Fink\", \"Financials\"),\n",
        "    (\"Catherine Howarth\", \"Financials\"),\n",
        "    (\"Anne Finucane\", \"Financials\"),\n",
        "    (\"David Blood\", \"Financials\"),\n",
        "    (\"Ray Dalio\", \"Financials\"),\n",
        "\n",
        "    (\"John Mackey\", \"Food\"),\n",
        "    (\"Denise Morrison\", \"Food\"),\n",
        "    (\"Emmanuel Faber\", \"Food\"),\n",
        "    (\"Howard Schultz\", \"Food\"),\n",
        "    (\"James Quincey\", \"Food\"),\n",
        "\n",
        "    (\"Anders Thomas\", \"Forest Products\"),\n",
        "    (\"Berry Wiersum\", \"Forest Products\"),\n",
        "    (\"Luke A. Finlay III\", \"Forest Products\"),\n",
        "    (\"Paul Polman\", \"Forest Products\"),\n",
        "    (\"William L. Kovacs\", \"Forest Products\"),\n",
        "\n",
        "    (\"Alex Gorsky\", \"Health Care Products\"),\n",
        "    (\"Stefan De Loecker\", \"Health Care Products\"),\n",
        "    (\"Emma Walmsley\", \"Health Care Products\"),\n",
        "    (\"Leif Johansson\", \"Health Care Products\"),\n",
        "    (\"Severin Schwan\", \"Health Care Products\"),\n",
        "\n",
        "    (\"Andrew Martin\", \"Home Furnishings\"),\n",
        "    (\"Patricia Urquiola\", \"Home Furnishings\"),\n",
        "    (\"Thomas Rau\", \"Home Furnishings\"),\n",
        "    (\"Marcus Engman\", \"Home Furnishings\"),\n",
        "    (\"Mette Hay\", \"Home Furnishings\"),\n",
        "\n",
        "    (\"Mark Bitzer\", \"Household Appliances\"),\n",
        "    (\"Pat Bassett\", \"Household Appliances\"),\n",
        "    (\"William L. McComb\", \"Household Appliances\"),\n",
        "    (\"Kevin Nolan\", \"Household Appliances\"),\n",
        "    (\"Uwe Raschke\", \"Household Appliances\"),\n",
        "\n",
        "    (\"Darius Adamczyk\", \"Industrial Machinery\"),\n",
        "    (\"Scott Wine\", \"Industrial Machinery\"),\n",
        "    (\"Greg Hayes\", \"Industrial Machinery\"),\n",
        "    (\"Nick Blazquez\", \"Industrial Machinery\"),\n",
        "    (\"Jeff Immelt\", \"Industrial Machinery\"),\n",
        "\n",
        "    (\"Oleg Deripaska\", \"Metals: Beyond Big 4\"),\n",
        "    (\"Richard Adkerson\", \"Metals: Beyond Big 4\"),\n",
        "    (\"Ivan Glasenberg\", \"Metals: Beyond Big 4\"),\n",
        "    (\"Mark Cutifani\", \"Metals: Beyond Big 4\"),\n",
        "    (\"Mark Eames\", \"Metals: Beyond Big 4\"),\n",
        "\n",
        "    (\"Sundar Pichai\", \"Software & IT Services\"),\n",
        "    (\"Lisa P. Jackson\", \"Software & IT Services\"),\n",
        "    (\"Satya Nadella\", \"Software & IT Services\"),\n",
        "    (\"Marc Benioff\", \"Software & IT Services\"),\n",
        "    (\"Arvind Krishna\", \"Software & IT Services\"),\n",
        "\n",
        "    (\"Tim Cook\", \"Technology/ Hardware Products\"),\n",
        "    (\"Lisa Su\", \"Technology/ Hardware Products\"),\n",
        "    (\"Pat Gelsinger\", \"Technology/ Hardware Products\"),\n",
        "    (\"Jensen Huang\", \"Technology/ Hardware Products\"),\n",
        "    (\"Michael Dell\", \"Technology/ Hardware Products\"),\n",
        "\n",
        "    (\"Frederick W. Smith\", \"Transportation & Logistics\"),\n",
        "    (\"David Abney\", \"Transportation & Logistics\"),\n",
        "    (\"Richard Anderson\", \"Transportation & Logistics\"),\n",
        "    (\"James Foote\", \"Transportation & Logistics\"),\n",
        "    (\"Lance Fritz\", \"Transportation & Logistics\"),\n",
        "\n",
        "    (\"David Steiner\", \"Waste Management\"),\n",
        "    (\"Patrick Dovigi\", \"Waste Management\"),\n",
        "    (\"Ronald Mittelstaedt\", \"Waste Management\"),\n",
        "    (\"Darren Gruendel\", \"Waste Management\"),\n",
        "    (\"Richard Burke\", \"Waste Management\")\n",
        "]\n",
        "\n",
        "random.shuffle(experts_list_23fields_5experts)\n",
        "df_experts = pd.DataFrame(experts_list_23fields_5experts, columns=[\"persona\", \"field\"])"
      ]
    },
    {
      "cell_type": "code",
      "source": [
        "def generate_responses_level3M(df, prompt, column_name, default_context, adjectives_problem, adjectives_solution):\n",
        "    responses = []\n",
        "    adjectives_problem_list, adjectives_solution_list = [], []\n",
        "\n",
        "    # List to store the generation times\n",
        "    generation_times = []\n",
        "\n",
        "    for i, row in tqdm(df.iterrows(), total=df.shape[0]):\n",
        "        sentence_persona = \"You are \"+ row[\"persona\"] + \" an expert in \" + row[\"field\"] +\".\"\n",
        "\n",
        "        adj1 = adjectives_problem[i]\n",
        "        adj2 = adjectives_solution[i]\n",
        "        adjectives_problem_list.append(adj1)\n",
        "        adjectives_solution_list.append(adj2)\n",
        "\n",
        "        # replace \"concise\" with the randomly selected adjective in the default context\n",
        "        new_prompt = prompt.replace(\"concise1\", adj1)\n",
        "        new_prompt = new_prompt.replace(\"concise2\", adj2)\n",
        "\n",
        "        content = default_context + sentence_persona\n",
        "\n",
        "        # Start the timer\n",
        "\n",
        "\n",
        "        try:\n",
        "            start_time = time.time()\n",
        "            response = client.chat.completions.create(\n",
        "                model=\"gpt-4\",\n",
        "                messages=[\n",
        "                    {\"role\": \"system\", \"content\": content},\n",
        "                    {\"role\": \"user\", \"content\": new_prompt}\n",
        "                ])\n",
        "            # Stop the timer and store the generation time\n",
        "            end_time = time.time()\n",
        "            generation_times.append(end_time - start_time)\n",
        "            responses.append(response.choices[0].message.content)\n",
        "        except Exception as e:\n",
        "            print(f\"Error on row {i}: {e}\")\n",
        "            response = client.chat.completions.create(\n",
        "                model=\"gpt-4\",\n",
        "                messages=[\n",
        "                    {\"role\": \"system\", \"content\": content},\n",
        "                    {\"role\": \"user\", \"content\": new_prompt}\n",
        "                ])\n",
        "            responses.append(response.choices[0].message.content)\n",
        "\n",
        "\n",
        "\n",
        "    # Compute the required statistics\n",
        "    min_time = np.min(generation_times)\n",
        "    max_time = np.max(generation_times)\n",
        "    avg_time = np.mean(generation_times)\n",
        "    std_time = np.std(generation_times)\n",
        "\n",
        "    print(f\"Min Generation Time: {min_time} seconds\")\n",
        "    print(f\"Max Generation Time: {max_time} seconds\")\n",
        "    print(f\"Average Generation Time: {avg_time} seconds\")\n",
        "    print(f\"Standard Deviation of Generation Time: {std_time} seconds\")\n",
        "\n",
        "    return pd.Series(responses), pd.Series(adjectives_problem_list), pd.Series(adjectives_solution_list)\n"
      ],
      "metadata": {
        "id": "KTdFdm8knDoG"
      },
      "execution_count": null,
      "outputs": []
    },
    {
      "cell_type": "code",
      "source": [
        "# TODO Change n\n",
        "n = 2\n",
        "level3M, p_list, s_list = generate_responses_level3M(df_experts[:n], prompt_level2M, 'LEVEL3M', default_context_level2M, adjectives_problem, adjectives_solution)\n",
        "df_3M = create_df_answers(level3M, p_list, s_list, persona = df_experts[\"persona\"][:n], level_name = \"Level3M\")"
      ],
      "metadata": {
        "colab": {
          "base_uri": "https://localhost:8080/",
          "height": 104
        },
        "id": "PDgzoPQ4nIq5",
        "outputId": "1b23edfb-79d0-4413-ae9b-162f60e93675"
      },
      "execution_count": null,
      "outputs": [
        {
          "output_type": "stream",
          "name": "stderr",
          "text": [
            "100%|██████████| 2/2 [01:08<00:00, 34.06s/it]"
          ]
        },
        {
          "output_type": "stream",
          "name": "stdout",
          "text": [
            "Min Generation Time: 29.847463130950928 seconds\n",
            "Max Generation Time: 38.2646369934082 seconds\n",
            "Average Generation Time: 34.056050062179565 seconds\n",
            "Standard Deviation of Generation Time: 4.208586931228638 seconds\n"
          ]
        },
        {
          "output_type": "stream",
          "name": "stderr",
          "text": [
            "\n"
          ]
        },
        {
          "output_type": "display_data",
          "data": {
            "text/plain": [
              "<IPython.core.display.Javascript object>"
            ],
            "application/javascript": [
              "\n",
              "    async function download(id, filename, size) {\n",
              "      if (!google.colab.kernel.accessAllowed) {\n",
              "        return;\n",
              "      }\n",
              "      const div = document.createElement('div');\n",
              "      const label = document.createElement('label');\n",
              "      label.textContent = `Downloading \"${filename}\": `;\n",
              "      div.appendChild(label);\n",
              "      const progress = document.createElement('progress');\n",
              "      progress.max = size;\n",
              "      div.appendChild(progress);\n",
              "      document.body.appendChild(div);\n",
              "\n",
              "      const buffers = [];\n",
              "      let downloaded = 0;\n",
              "\n",
              "      const channel = await google.colab.kernel.comms.open(id);\n",
              "      // Send a message to notify the kernel that we're ready.\n",
              "      channel.send({})\n",
              "\n",
              "      for await (const message of channel.messages) {\n",
              "        // Send a message to notify the kernel that we're ready.\n",
              "        channel.send({})\n",
              "        if (message.buffers) {\n",
              "          for (const buffer of message.buffers) {\n",
              "            buffers.push(buffer);\n",
              "            downloaded += buffer.byteLength;\n",
              "            progress.value = downloaded;\n",
              "          }\n",
              "        }\n",
              "      }\n",
              "      const blob = new Blob(buffers, {type: 'application/binary'});\n",
              "      const a = document.createElement('a');\n",
              "      a.href = window.URL.createObjectURL(blob);\n",
              "      a.download = filename;\n",
              "      div.appendChild(a);\n",
              "      a.click();\n",
              "      div.remove();\n",
              "    }\n",
              "  "
            ]
          },
          "metadata": {}
        },
        {
          "output_type": "display_data",
          "data": {
            "text/plain": [
              "<IPython.core.display.Javascript object>"
            ],
            "application/javascript": [
              "download(\"download_d74916f5-a304-4cf6-aba2-fc06bb0565f0\", \"Level3M_20240213_0908.csv\", 3438)"
            ]
          },
          "metadata": {}
        }
      ]
    },
    {
      "cell_type": "code",
      "execution_count": null,
      "metadata": {
        "colab": {
          "base_uri": "https://localhost:8080/",
          "height": 564
        },
        "id": "WKFKM1RHSGWu",
        "outputId": "8d1fcea2-108b-4217-f81e-2f547c005b57"
      },
      "outputs": [
        {
          "output_type": "display_data",
          "data": {
            "text/plain": [
              "<Figure size 1000x600 with 1 Axes>"
            ],
            "image/png": "[encoded data removed]"
          },
          "metadata": {}
        }
      ],
      "source": [
        "make_distribution_length_plot(level3M)"
      ]
    },
    {
      "cell_type": "code",
      "execution_count": null,
      "metadata": {
        "colab": {
          "base_uri": "https://localhost:8080/",
          "height": 112
        },
        "id": "XnyI7L1xE8EG",
        "outputId": "8d2e3d32-cd95-463e-e19f-26c650093f76"
      },
      "outputs": [
        {
          "output_type": "execute_result",
          "data": {
            "text/plain": [
              "     level                                            problem  \\\n",
              "0  Level3M  Rapid advancements in technology tend to resul...   \n",
              "1  Level3M   In the industrial machinery sector, a signifi...   \n",
              "\n",
              "                                            solution  \\\n",
              "0  My solution to reduce electronic waste and pro...   \n",
              "1                                                NaN   \n",
              "\n",
              "               problem_adjective             solution_adjective        persona  \n",
              "0                        concise                           long  Sundar Pichai  \n",
              "1  highly detailed and elaborate  highly detailed and elaborate     Greg Hayes  "
            ],
            "text/html": [
              "\n",
              "  <div id=\"df-a1a14c70-3ed9-43a0-b836-05c31f1ebccf\" class=\"colab-df-container\">\n",
              "    <div>\n",
              "<style scoped>\n",
              "    .dataframe tbody tr th:only-of-type {\n",
              "        vertical-align: middle;\n",
              "    }\n",
              "\n",
              "    .dataframe tbody tr th {\n",
              "        vertical-align: top;\n",
              "    }\n",
              "\n",
              "    .dataframe thead th {\n",
              "        text-align: right;\n",
              "    }\n",
              "</style>\n",
              "<table border=\"1\" class=\"dataframe\">\n",
              "  <thead>\n",
              "    <tr style=\"text-align: right;\">\n",
              "      <th></th>\n",
              "      <th>level</th>\n",
              "      <th>problem</th>\n",
              "      <th>solution</th>\n",
              "      <th>problem_adjective</th>\n",
              "      <th>solution_adjective</th>\n",
              "      <th>persona</th>\n",
              "    </tr>\n",
              "  </thead>\n",
              "  <tbody>\n",
              "    <tr>\n",
              "      <th>0</th>\n",
              "      <td>Level3M</td>\n",
              "      <td>Rapid advancements in technology tend to resul...</td>\n",
              "      <td>My solution to reduce electronic waste and pro...</td>\n",
              "      <td>concise</td>\n",
              "      <td>long</td>\n",
              "      <td>Sundar Pichai</td>\n",
              "    </tr>\n",
              "    <tr>\n",
              "      <th>1</th>\n",
              "      <td>Level3M</td>\n",
              "      <td>In the industrial machinery sector, a signifi...</td>\n",
              "      <td>NaN</td>\n",
              "      <td>highly detailed and elaborate</td>\n",
              "      <td>highly detailed and elaborate</td>\n",
              "      <td>Greg Hayes</td>\n",
              "    </tr>\n",
              "  </tbody>\n",
              "</table>\n",
              "</div>\n",
              "    <div class=\"colab-df-buttons\">\n",
              "\n",
              "  <div class=\"colab-df-container\">\n",
              "    <button class=\"colab-df-convert\" onclick=\"convertToInteractive('df-a1a14c70-3ed9-43a0-b836-05c31f1ebccf')\"\n",
              "            title=\"Convert this dataframe to an interactive table.\"\n",
              "            style=\"display:none;\">\n",
              "\n",
              "  <svg xmlns=\"http://www.w3.org/2000/svg\" height=\"24px\" viewBox=\"0 -960 960 960\">\n",
              "    <path d=\"M120-120v-720h720v720H120Zm60-500h600v-160H180v160Zm220 220h160v-160H400v160Zm0 220h160v-160H400v160ZM180-400h160v-160H180v160Zm440 0h160v-160H620v160ZM180-180h160v-160H180v160Zm440 0h160v-160H620v160Z\"/>\n",
              "  </svg>\n",
              "    </button>\n",
              "\n",
              "  <style>\n",
              "    .colab-df-container {\n",
              "      display:flex;\n",
              "      gap: 12px;\n",
              "    }\n",
              "\n",
              "    .colab-df-convert {\n",
              "      background-color: #E8F0FE;\n",
              "      border: none;\n",
              "      border-radius: 50%;\n",
              "      cursor: pointer;\n",
              "      display: none;\n",
              "      fill: #1967D2;\n",
              "      height: 32px;\n",
              "      padding: 0 0 0 0;\n",
              "      width: 32px;\n",
              "    }\n",
              "\n",
              "    .colab-df-convert:hover {\n",
              "      background-color: #E2EBFA;\n",
              "      box-shadow: 0px 1px 2px rgba(60, 64, 67, 0.3), 0px 1px 3px 1px rgba(60, 64, 67, 0.15);\n",
              "      fill: #174EA6;\n",
              "    }\n",
              "\n",
              "    .colab-df-buttons div {\n",
              "      margin-bottom: 4px;\n",
              "    }\n",
              "\n",
              "    [theme=dark] .colab-df-convert {\n",
              "      background-color: #3B4455;\n",
              "      fill: #D2E3FC;\n",
              "    }\n",
              "\n",
              "    [theme=dark] .colab-df-convert:hover {\n",
              "      background-color: #434B5C;\n",
              "      box-shadow: 0px 1px 3px 1px rgba(0, 0, 0, 0.15);\n",
              "      filter: drop-shadow(0px 1px 2px rgba(0, 0, 0, 0.3));\n",
              "      fill: #FFFFFF;\n",
              "    }\n",
              "  </style>\n",
              "\n",
              "    <script>\n",
              "      const buttonEl =\n",
              "        document.querySelector('#df-a1a14c70-3ed9-43a0-b836-05c31f1ebccf button.colab-df-convert');\n",
              "      buttonEl.style.display =\n",
              "        google.colab.kernel.accessAllowed ? 'block' : 'none';\n",
              "\n",
              "      async function convertToInteractive(key) {\n",
              "        const element = document.querySelector('#df-a1a14c70-3ed9-43a0-b836-05c31f1ebccf');\n",
              "        const dataTable =\n",
              "          await google.colab.kernel.invokeFunction('convertToInteractive',\n",
              "                                                    [key], {});\n",
              "        if (!dataTable) return;\n",
              "\n",
              "        const docLinkHtml = 'Like what you see? Visit the ' +\n",
              "          '<a target=\"_blank\" href=https://colab.research.google.com/notebooks/data_table.ipynb>data table notebook</a>'\n",
              "          + ' to learn more about interactive tables.';\n",
              "        element.innerHTML = '';\n",
              "        dataTable['output_type'] = 'display_data';\n",
              "        await google.colab.output.renderOutput(dataTable, element);\n",
              "        const docLink = document.createElement('div');\n",
              "        docLink.innerHTML = docLinkHtml;\n",
              "        element.appendChild(docLink);\n",
              "      }\n",
              "    </script>\n",
              "  </div>\n",
              "\n",
              "\n",
              "<div id=\"df-1f2607ba-fba2-4dc3-9f40-d4d7ee43daff\">\n",
              "  <button class=\"colab-df-quickchart\" onclick=\"quickchart('df-1f2607ba-fba2-4dc3-9f40-d4d7ee43daff')\"\n",
              "            title=\"Suggest charts\"\n",
              "            style=\"display:none;\">\n",
              "\n",
              "<svg xmlns=\"http://www.w3.org/2000/svg\" height=\"24px\"viewBox=\"0 0 24 24\"\n",
              "     width=\"24px\">\n",
              "    <g>\n",
              "        <path d=\"M19 3H5c-1.1 0-2 .9-2 2v14c0 1.1.9 2 2 2h14c1.1 0 2-.9 2-2V5c0-1.1-.9-2-2-2zM9 17H7v-7h2v7zm4 0h-2V7h2v10zm4 0h-2v-4h2v4z\"/>\n",
              "    </g>\n",
              "</svg>\n",
              "  </button>\n",
              "\n",
              "<style>\n",
              "  .colab-df-quickchart {\n",
              "      --bg-color: #E8F0FE;\n",
              "      --fill-color: #1967D2;\n",
              "      --hover-bg-color: #E2EBFA;\n",
              "      --hover-fill-color: #174EA6;\n",
              "      --disabled-fill-color: #AAA;\n",
              "      --disabled-bg-color: #DDD;\n",
              "  }\n",
              "\n",
              "  [theme=dark] .colab-df-quickchart {\n",
              "      --bg-color: #3B4455;\n",
              "      --fill-color: #D2E3FC;\n",
              "      --hover-bg-color: #434B5C;\n",
              "      --hover-fill-color: #FFFFFF;\n",
              "      --disabled-bg-color: #3B4455;\n",
              "      --disabled-fill-color: #666;\n",
              "  }\n",
              "\n",
              "  .colab-df-quickchart {\n",
              "    background-color: var(--bg-color);\n",
              "    border: none;\n",
              "    border-radius: 50%;\n",
              "    cursor: pointer;\n",
              "    display: none;\n",
              "    fill: var(--fill-color);\n",
              "    height: 32px;\n",
              "    padding: 0;\n",
              "    width: 32px;\n",
              "  }\n",
              "\n",
              "  .colab-df-quickchart:hover {\n",
              "    background-color: var(--hover-bg-color);\n",
              "    box-shadow: 0 1px 2px rgba(60, 64, 67, 0.3), 0 1px 3px 1px rgba(60, 64, 67, 0.15);\n",
              "    fill: var(--button-hover-fill-color);\n",
              "  }\n",
              "\n",
              "  .colab-df-quickchart-complete:disabled,\n",
              "  .colab-df-quickchart-complete:disabled:hover {\n",
              "    background-color: var(--disabled-bg-color);\n",
              "    fill: var(--disabled-fill-color);\n",
              "    box-shadow: none;\n",
              "  }\n",
              "\n",
              "  .colab-df-spinner {\n",
              "    border: 2px solid var(--fill-color);\n",
              "    border-color: transparent;\n",
              "    border-bottom-color: var(--fill-color);\n",
              "    animation:\n",
              "      spin 1s steps(1) infinite;\n",
              "  }\n",
              "\n",
              "  @keyframes spin {\n",
              "    0% {\n",
              "      border-color: transparent;\n",
              "      border-bottom-color: var(--fill-color);\n",
              "      border-left-color: var(--fill-color);\n",
              "    }\n",
              "    20% {\n",
              "      border-color: transparent;\n",
              "      border-left-color: var(--fill-color);\n",
              "      border-top-color: var(--fill-color);\n",
              "    }\n",
              "    30% {\n",
              "      border-color: transparent;\n",
              "      border-left-color: var(--fill-color);\n",
              "      border-top-color: var(--fill-color);\n",
              "      border-right-color: var(--fill-color);\n",
              "    }\n",
              "    40% {\n",
              "      border-color: transparent;\n",
              "      border-right-color: var(--fill-color);\n",
              "      border-top-color: var(--fill-color);\n",
              "    }\n",
              "    60% {\n",
              "      border-color: transparent;\n",
              "      border-right-color: var(--fill-color);\n",
              "    }\n",
              "    80% {\n",
              "      border-color: transparent;\n",
              "      border-right-color: var(--fill-color);\n",
              "      border-bottom-color: var(--fill-color);\n",
              "    }\n",
              "    90% {\n",
              "      border-color: transparent;\n",
              "      border-bottom-color: var(--fill-color);\n",
              "    }\n",
              "  }\n",
              "</style>\n",
              "\n",
              "  <script>\n",
              "    async function quickchart(key) {\n",
              "      const quickchartButtonEl =\n",
              "        document.querySelector('#' + key + ' button');\n",
              "      quickchartButtonEl.disabled = true;  // To prevent multiple clicks.\n",
              "      quickchartButtonEl.classList.add('colab-df-spinner');\n",
              "      try {\n",
              "        const charts = await google.colab.kernel.invokeFunction(\n",
              "            'suggestCharts', [key], {});\n",
              "      } catch (error) {\n",
              "        console.error('Error during call to suggestCharts:', error);\n",
              "      }\n",
              "      quickchartButtonEl.classList.remove('colab-df-spinner');\n",
              "      quickchartButtonEl.classList.add('colab-df-quickchart-complete');\n",
              "    }\n",
              "    (() => {\n",
              "      let quickchartButtonEl =\n",
              "        document.querySelector('#df-1f2607ba-fba2-4dc3-9f40-d4d7ee43daff button');\n",
              "      quickchartButtonEl.style.display =\n",
              "        google.colab.kernel.accessAllowed ? 'block' : 'none';\n",
              "    })();\n",
              "  </script>\n",
              "</div>\n",
              "    </div>\n",
              "  </div>\n"
            ]
          },
          "metadata": {},
          "execution_count": 27
        }
      ],
      "source": [
        "df_3M"
      ]
    },
    {
      "cell_type": "markdown",
      "metadata": {
        "id": "BbBz24FNTYpp"
      },
      "source": [
        "# LEVEL 1S: 1 instance but no persona"
      ]
    },
    {
      "cell_type": "code",
      "execution_count": null,
      "metadata": {
        "id": "qtFjU2aJn72j"
      },
      "outputs": [],
      "source": [
        "default_context_level1S = \"\"\" We are excited to announce an opportunity for freelancers to collaborate with researchers at the Digital, Data, and Design Institute at Harvard to source the most innovative and cutting-edge circular economy solutions for the business world.\n",
        "\n",
        "Circular Economy is a simple idea.\n",
        "\n",
        "Basically it involves sharing, leasing, reusing, repairing, refurbishing and recycling existing materials and products as long as possible.\n",
        "\n",
        "We would like you to submit your circular economy idea, which can be a unique new idea or an existent idea that is used in the industry.\n",
        "\n",
        "Here is an example: Car Sharing in order to reduce the carbon footprint associated with driving.\n",
        "\n",
        "Submit your real-life use cases on how companies can implement the circular economy in their businesses. New ideas are also welcome, even if they are 'moonshots'. Your suggestions will help Harvard researchers understand the impact of the circular economy on business. Let's get creative and revolutionize the world through the circular economy!\n",
        "\n",
        "Your goal is to win the top monetary prizes by satisfying to the maximum the following evaluation criteria.\n",
        "* Novelty (How different is it from existing solutions?)\n",
        "* Environmental Impact (How much does it benefit the planet?)\n",
        "* Financial Impact (What financial value can it create for businesses?)\n",
        "* Feasibility and Scalability of Implementation (How likely is it to succeed and how scalable is it?)\n",
        "\n",
        "Answer the following two questions to propose a circular economy idea that could win the challenge according to the evaluation criteria.\n",
        "\n",
        "Problem: Tell us about the problem your solution is meant to solve.\n",
        "\n",
        "Solution: Describe the solution in your own words.\n",
        "\n",
        "Use the following template to answer:\n",
        "Problem: <Write a high quality answer.>\n",
        "Solution: <Write a high quality solution.>\n",
        "\n",
        "We will ask to answer these questions several times, and make sure each new answer tackles a different problem than the previous ones and proposes a different solution.\"\"\"\n"
      ]
    },
    {
      "cell_type": "code",
      "execution_count": null,
      "metadata": {
        "id": "fx4MhQdXzOnl"
      },
      "outputs": [],
      "source": [
        "import random\n",
        "import time\n",
        "from tqdm import tqdm\n",
        "import pandas as pd\n",
        "import openai\n",
        "\n",
        "def estimate_token_count(message):\n",
        "    \"\"\"\n",
        "    Rough estimation of token count. Real token count could be different.\n",
        "    \"\"\"\n",
        "    return len(message.split())\n",
        "\n",
        "def generate_responses_level1S(df, column_name, default_context, adjectives_problem, adjectives_solution):\n",
        "    responses = []\n",
        "    generation_times = []\n",
        "    adjectives_problem_list, adjectives_solution_list = [], []\n",
        "\n",
        "    total_tokens = estimate_token_count(default_context)\n",
        "    messages = [{\"role\": \"system\", \"content\": default_context}]\n",
        "\n",
        "    for i, row in tqdm(df.iterrows(), total=df.shape[0]):\n",
        "        content = \"Give a new high quality, concise1 Problem and high quality, concise2 Solution. Make sure to tackle a different problem than the previous ones and propose a different solution. Make also sure your answers satisfy the evaluation criteria (novelty, environmental impact, financial impact, feasibility and scalability).\"\n",
        "\n",
        "        # select a random adjective from the provided list\n",
        "        adj1 = adjectives_problem[i]\n",
        "        adj2 = adjectives_solution[i]\n",
        "        adjectives_problem_list.append(adj1)\n",
        "        adjectives_solution_list.append(adj2)\n",
        "        # replace \"concise\" with the randomly selected adjective in the default context\n",
        "        content = content.replace(\"concise1\", adj1)\n",
        "        content = content.replace(\"concise2\", adj2)\n",
        "        tokens_in_content = estimate_token_count(content)\n",
        "\n",
        "        if total_tokens + tokens_in_content > 7000:\n",
        "            if len(messages) > 2:\n",
        "                # Remove the 2nd and 3rd message\n",
        "                removed_message_2 = messages.pop(1)  # Remove second message\n",
        "                total_tokens -= estimate_token_count(removed_message_2[\"content\"])\n",
        "                if len(messages) > 1:\n",
        "                    removed_message_3 = messages.pop(1)  # Remove third message (which is now at the second position after the previous pop)\n",
        "                    total_tokens -= estimate_token_count(removed_message_3[\"content\"])\n",
        "\n",
        "        try:\n",
        "            messages.append({\"role\": \"user\", \"content\": content})\n",
        "            total_tokens += tokens_in_content\n",
        "            start_time = time.time()\n",
        "            response = client.chat.completions.create(\n",
        "                model=\"gpt-4\",\n",
        "                messages=messages\n",
        "            )\n",
        "            # Stop the timer and store the generation time\n",
        "            end_time = time.time()\n",
        "            generation_times.append(end_time - start_time)\n",
        "\n",
        "            model_response = response.choices[0].message.content\n",
        "            total_tokens += estimate_token_count(model_response)\n",
        "            messages.pop()\n",
        "            responses.append(model_response)\n",
        "            messages.append({\"role\": \"system\", \"content\": model_response})\n",
        "        except openai.error.RateLimitError as e:\n",
        "            print(f\"Rate limit error, sleeping for 10 seconds. Error details: {e}\")\n",
        "            time.sleep(20)\n",
        "            continue  # Skip the rest of this iteration and go to the next one\n",
        "        except Exception as e:\n",
        "            print(f\"Error on row {i}: {e}\")\n",
        "\n",
        "    # Compute the required statistics\n",
        "    min_time = np.min(generation_times)\n",
        "    max_time = np.max(generation_times)\n",
        "    avg_time = np.mean(generation_times)\n",
        "    std_time = np.std(generation_times)\n",
        "\n",
        "    print(f\"Min Generation Time: {min_time} seconds\")\n",
        "    print(f\"Max Generation Time: {max_time} seconds\")\n",
        "    print(f\"Average Generation Time: {avg_time} seconds\")\n",
        "    print(f\"Standard Deviation of Generation Time: {std_time} seconds\")\n",
        "\n",
        "    return pd.Series(responses), messages, pd.Series(adjectives_problem_list), pd.Series(adjectives_solution_list)\n"
      ]
    },
    {
      "cell_type": "code",
      "execution_count": null,
      "metadata": {
        "colab": {
          "base_uri": "https://localhost:8080/",
          "height": 104
        },
        "id": "2OpdLfxeT54r",
        "outputId": "f5a43425-198c-4f25-b69a-c721a72c4a68"
      },
      "outputs": [
        {
          "output_type": "stream",
          "name": "stderr",
          "text": [
            "100%|██████████| 1/1 [00:34<00:00, 34.67s/it]"
          ]
        },
        {
          "output_type": "stream",
          "name": "stdout",
          "text": [
            "Min Generation Time: 34.66301488876343 seconds\n",
            "Max Generation Time: 34.66301488876343 seconds\n",
            "Average Generation Time: 34.66301488876343 seconds\n",
            "Standard Deviation of Generation Time: 0.0 seconds\n"
          ]
        },
        {
          "output_type": "stream",
          "name": "stderr",
          "text": [
            "\n"
          ]
        },
        {
          "output_type": "display_data",
          "data": {
            "text/plain": [
              "<IPython.core.display.Javascript object>"
            ],
            "application/javascript": [
              "\n",
              "    async function download(id, filename, size) {\n",
              "      if (!google.colab.kernel.accessAllowed) {\n",
              "        return;\n",
              "      }\n",
              "      const div = document.createElement('div');\n",
              "      const label = document.createElement('label');\n",
              "      label.textContent = `Downloading \"${filename}\": `;\n",
              "      div.appendChild(label);\n",
              "      const progress = document.createElement('progress');\n",
              "      progress.max = size;\n",
              "      div.appendChild(progress);\n",
              "      document.body.appendChild(div);\n",
              "\n",
              "      const buffers = [];\n",
              "      let downloaded = 0;\n",
              "\n",
              "      const channel = await google.colab.kernel.comms.open(id);\n",
              "      // Send a message to notify the kernel that we're ready.\n",
              "      channel.send({})\n",
              "\n",
              "      for await (const message of channel.messages) {\n",
              "        // Send a message to notify the kernel that we're ready.\n",
              "        channel.send({})\n",
              "        if (message.buffers) {\n",
              "          for (const buffer of message.buffers) {\n",
              "            buffers.push(buffer);\n",
              "            downloaded += buffer.byteLength;\n",
              "            progress.value = downloaded;\n",
              "          }\n",
              "        }\n",
              "      }\n",
              "      const blob = new Blob(buffers, {type: 'application/binary'});\n",
              "      const a = document.createElement('a');\n",
              "      a.href = window.URL.createObjectURL(blob);\n",
              "      a.download = filename;\n",
              "      div.appendChild(a);\n",
              "      a.click();\n",
              "      div.remove();\n",
              "    }\n",
              "  "
            ]
          },
          "metadata": {}
        },
        {
          "output_type": "display_data",
          "data": {
            "text/plain": [
              "<IPython.core.display.Javascript object>"
            ],
            "application/javascript": [
              "download(\"download_8be2bfb5-f2dd-4252-9656-2c31d04b0138\", \"Level1S_20240213_0909.csv\", 2721)"
            ]
          },
          "metadata": {}
        }
      ],
      "source": [
        "# TODO CHANGE TO 100 AND HANDLE PROBLEM\n",
        "n = 1\n",
        "level1S, m, p_list, s_list = generate_responses_level1S(new_df[:n], 'LEVEL1S', default_context_level1S, adjectives_problem, adjectives_solution)\n",
        "df_1S = create_df_answers(level1S, p_list, s_list, persona = None, level_name = \"Level1S\")"
      ]
    },
    {
      "cell_type": "code",
      "execution_count": null,
      "metadata": {
        "colab": {
          "base_uri": "https://localhost:8080/",
          "height": 80
        },
        "id": "wpfCcmbgYt7u",
        "outputId": "ae854f68-a21f-4194-e35f-86d72068ce2f"
      },
      "outputs": [
        {
          "output_type": "execute_result",
          "data": {
            "text/plain": [
              "     level                                            problem  \\\n",
              "0  Level1S  The fast fashion industry is notorious for not...   \n",
              "\n",
              "                                            solution problem_adjective  \\\n",
              "0  A hybrid concept of \"Fashion-as-a-Service\" (Fa...           concise   \n",
              "\n",
              "  solution_adjective  persona  \n",
              "0               long      NaN  "
            ],
            "text/html": [
              "\n",
              "  <div id=\"df-7f1829c2-1779-4f0d-8144-e4667c37b98e\" class=\"colab-df-container\">\n",
              "    <div>\n",
              "<style scoped>\n",
              "    .dataframe tbody tr th:only-of-type {\n",
              "        vertical-align: middle;\n",
              "    }\n",
              "\n",
              "    .dataframe tbody tr th {\n",
              "        vertical-align: top;\n",
              "    }\n",
              "\n",
              "    .dataframe thead th {\n",
              "        text-align: right;\n",
              "    }\n",
              "</style>\n",
              "<table border=\"1\" class=\"dataframe\">\n",
              "  <thead>\n",
              "    <tr style=\"text-align: right;\">\n",
              "      <th></th>\n",
              "      <th>level</th>\n",
              "      <th>problem</th>\n",
              "      <th>solution</th>\n",
              "      <th>problem_adjective</th>\n",
              "      <th>solution_adjective</th>\n",
              "      <th>persona</th>\n",
              "    </tr>\n",
              "  </thead>\n",
              "  <tbody>\n",
              "    <tr>\n",
              "      <th>0</th>\n",
              "      <td>Level1S</td>\n",
              "      <td>The fast fashion industry is notorious for not...</td>\n",
              "      <td>A hybrid concept of \"Fashion-as-a-Service\" (Fa...</td>\n",
              "      <td>concise</td>\n",
              "      <td>long</td>\n",
              "      <td>NaN</td>\n",
              "    </tr>\n",
              "  </tbody>\n",
              "</table>\n",
              "</div>\n",
              "    <div class=\"colab-df-buttons\">\n",
              "\n",
              "  <div class=\"colab-df-container\">\n",
              "    <button class=\"colab-df-convert\" onclick=\"convertToInteractive('df-7f1829c2-1779-4f0d-8144-e4667c37b98e')\"\n",
              "            title=\"Convert this dataframe to an interactive table.\"\n",
              "            style=\"display:none;\">\n",
              "\n",
              "  <svg xmlns=\"http://www.w3.org/2000/svg\" height=\"24px\" viewBox=\"0 -960 960 960\">\n",
              "    <path d=\"M120-120v-720h720v720H120Zm60-500h600v-160H180v160Zm220 220h160v-160H400v160Zm0 220h160v-160H400v160ZM180-400h160v-160H180v160Zm440 0h160v-160H620v160ZM180-180h160v-160H180v160Zm440 0h160v-160H620v160Z\"/>\n",
              "  </svg>\n",
              "    </button>\n",
              "\n",
              "  <style>\n",
              "    .colab-df-container {\n",
              "      display:flex;\n",
              "      gap: 12px;\n",
              "    }\n",
              "\n",
              "    .colab-df-convert {\n",
              "      background-color: #E8F0FE;\n",
              "      border: none;\n",
              "      border-radius: 50%;\n",
              "      cursor: pointer;\n",
              "      display: none;\n",
              "      fill: #1967D2;\n",
              "      height: 32px;\n",
              "      padding: 0 0 0 0;\n",
              "      width: 32px;\n",
              "    }\n",
              "\n",
              "    .colab-df-convert:hover {\n",
              "      background-color: #E2EBFA;\n",
              "      box-shadow: 0px 1px 2px rgba(60, 64, 67, 0.3), 0px 1px 3px 1px rgba(60, 64, 67, 0.15);\n",
              "      fill: #174EA6;\n",
              "    }\n",
              "\n",
              "    .colab-df-buttons div {\n",
              "      margin-bottom: 4px;\n",
              "    }\n",
              "\n",
              "    [theme=dark] .colab-df-convert {\n",
              "      background-color: #3B4455;\n",
              "      fill: #D2E3FC;\n",
              "    }\n",
              "\n",
              "    [theme=dark] .colab-df-convert:hover {\n",
              "      background-color: #434B5C;\n",
              "      box-shadow: 0px 1px 3px 1px rgba(0, 0, 0, 0.15);\n",
              "      filter: drop-shadow(0px 1px 2px rgba(0, 0, 0, 0.3));\n",
              "      fill: #FFFFFF;\n",
              "    }\n",
              "  </style>\n",
              "\n",
              "    <script>\n",
              "      const buttonEl =\n",
              "        document.querySelector('#df-7f1829c2-1779-4f0d-8144-e4667c37b98e button.colab-df-convert');\n",
              "      buttonEl.style.display =\n",
              "        google.colab.kernel.accessAllowed ? 'block' : 'none';\n",
              "\n",
              "      async function convertToInteractive(key) {\n",
              "        const element = document.querySelector('#df-7f1829c2-1779-4f0d-8144-e4667c37b98e');\n",
              "        const dataTable =\n",
              "          await google.colab.kernel.invokeFunction('convertToInteractive',\n",
              "                                                    [key], {});\n",
              "        if (!dataTable) return;\n",
              "\n",
              "        const docLinkHtml = 'Like what you see? Visit the ' +\n",
              "          '<a target=\"_blank\" href=https://colab.research.google.com/notebooks/data_table.ipynb>data table notebook</a>'\n",
              "          + ' to learn more about interactive tables.';\n",
              "        element.innerHTML = '';\n",
              "        dataTable['output_type'] = 'display_data';\n",
              "        await google.colab.output.renderOutput(dataTable, element);\n",
              "        const docLink = document.createElement('div');\n",
              "        docLink.innerHTML = docLinkHtml;\n",
              "        element.appendChild(docLink);\n",
              "      }\n",
              "    </script>\n",
              "  </div>\n",
              "\n",
              "    </div>\n",
              "  </div>\n"
            ]
          },
          "metadata": {},
          "execution_count": 31
        }
      ],
      "source": [
        "df_1S"
      ]
    },
    {
      "cell_type": "code",
      "execution_count": null,
      "metadata": {
        "colab": {
          "base_uri": "https://localhost:8080/",
          "height": 564
        },
        "id": "ynhSDDNMk7Kh",
        "outputId": "7bf1afbd-6f85-4232-e17c-ed9c79f0454a"
      },
      "outputs": [
        {
          "output_type": "display_data",
          "data": {
            "text/plain": [
              "<Figure size 1000x600 with 1 Axes>"
            ],
            "image/png": "[encoded data removed]"
          },
          "metadata": {}
        }
      ],
      "source": [
        "make_distribution_length_plot(level1S)"
      ]
    },
    {
      "cell_type": "markdown",
      "metadata": {
        "id": "dZIJ8Dnbc5nq"
      },
      "source": [
        "# LEVEL 2S: 1 instance, prompt includes personas"
      ]
    },
    {
      "cell_type": "code",
      "execution_count": null,
      "metadata": {
        "id": "dX9QZ0RsgOpc"
      },
      "outputs": [],
      "source": [
        "default_context_level2S = \"\"\"\n",
        "We are excited to announce an opportunity for freelancers to collaborate with researchers at the Digital, Data, and Design Institute at Harvard to source the most innovative and cutting-edge circular economy solutions for the business world.\n",
        "\n",
        "Circular Economy is a simple idea.\n",
        "\n",
        "Basically it involves sharing, leasing, reusing, repairing, refurbishing and recycling existing materials and products as long as possible.\n",
        "\n",
        "We would like you to submit your circular economy idea, which can be a unique new idea or an existent idea that is used in the industry.\n",
        "\n",
        "Here is an example: Car Sharing in order to reduce the carbon footprint associated with driving.\n",
        "\n",
        "Submit your real-life use cases on how companies can implement the circular economy in their businesses. New ideas are also welcome, even if they are 'moonshots'. Your suggestions will help Harvard researchers understand the impact of the circular economy on business. Let's get creative and revolutionize the world through the circular economy!\n",
        "\n",
        "Your goal is to win the top monetary prizes by satisfying to the maximum the following evaluation criteria.\n",
        "* Novelty (How different is it from existing solutions?)\n",
        "* Environmental Impact (How much does it benefit the planet?)\n",
        "* Financial Impact (What financial value can it create for businesses?)\n",
        "* Feasibility and Scalability of Implementation (How likely is it to succeed and how scalable is it?)\n",
        "\n",
        "Answer the following two questions to propose a circular economy idea that could win the challenge according to the evaluation criteria.\n",
        "\n",
        "Problem: Tell us about the problem your solution is meant to solve.\n",
        "\n",
        "Solution: Describe the solution in your own words.\n",
        "\n",
        "Answer following this template:\n",
        "Problem: <Write a high quality answer, corresponding to the personality, inspiration, and knowledge of your persona.>\n",
        "Solution: <Write a high quality solution, corresponding to the personality, inspiration, and knowledge of your persona.>\n",
        "\n",
        "We will give you a series of different personas, and make sure each new answer from each persona tackles a different problem than the previous ones and proposes a different solution. Make sure each answer to correspond to the perspective, characteristics, and knowledge of your persona.\n",
        "\"\"\""
      ]
    },
    {
      "cell_type": "code",
      "execution_count": null,
      "metadata": {
        "id": "y-CB3mEiXQy_"
      },
      "outputs": [],
      "source": [
        "def generate_responses_level2S(df, column_name, default_context, adjectives_problem, adjectives_solution):\n",
        "    responses = []\n",
        "    adjectives_problem_list, adjectives_solution_list = [], []\n",
        "\n",
        "    # List to store the generation times\n",
        "    generation_times = []\n",
        "\n",
        "    total_tokens = estimate_token_count(default_context)\n",
        "    messages = [{\"role\": \"system\", \"content\": default_context}]\n",
        "\n",
        "    for i, row in tqdm(df.iterrows(), total=df.shape[0]):\n",
        "        content = \"Give a new high quality, concise1 Problem and high quality, concise2 Solution. Make sure to tackle a different problem than the previous ones and propose a different solution. Make also sure your answers satisfy the evaluation criteria (novelty, environmental impact, financial impact, feasibility and scalability). The persona you embody for this answer:\"\n",
        "        content = content + row[\"sentence\"]\n",
        "        # select a random adjective from the provided list\n",
        "        adj1 = adjectives_problem[i]\n",
        "        adj2 = adjectives_solution[i]\n",
        "        adjectives_problem_list.append(adj1)\n",
        "        adjectives_solution_list.append(adj2)\n",
        "        # replace \"concise\" with the randomly selected adjective in the default context\n",
        "        content = content.replace(\"concise1\", adj1)\n",
        "        content = content.replace(\"concise2\", adj2)\n",
        "        tokens_in_content = estimate_token_count(content)\n",
        "\n",
        "        if total_tokens + tokens_in_content > 7000:\n",
        "            if len(messages) > 2:\n",
        "                # Remove the 2nd and 3rd message\n",
        "                removed_message_2 = messages.pop(1)  # Remove second message\n",
        "                total_tokens -= estimate_token_count(removed_message_2[\"content\"])\n",
        "                if len(messages) > 1:\n",
        "                    removed_message_3 = messages.pop(1)  # Remove third message (which is now at the second position after the previous pop)\n",
        "                    total_tokens -= estimate_token_count(removed_message_3[\"content\"])\n",
        "\n",
        "        try:\n",
        "            messages.append({\"role\": \"user\", \"content\": content})\n",
        "            total_tokens += tokens_in_content\n",
        "\n",
        "            # Start the timer\n",
        "            start_time = time.time()\n",
        "\n",
        "            response = client.chat.completions.create(\n",
        "                model=\"gpt-4\",\n",
        "                messages=messages\n",
        "            )\n",
        "\n",
        "            # Stop the timer and store the generation time\n",
        "            end_time = time.time()\n",
        "            generation_times.append(end_time - start_time)\n",
        "\n",
        "            model_response = response.choices[0].message.content\n",
        "            total_tokens += estimate_token_count(model_response)\n",
        "            messages.pop()\n",
        "            responses.append(model_response)\n",
        "            messages.append({\"role\": \"system\", \"content\": model_response})\n",
        "\n",
        "        except openai.error.RateLimitError as e:\n",
        "            print(f\"Rate limit error, sleeping for 10 seconds. Error details: {e}\")\n",
        "            time.sleep(20)\n",
        "            continue  # Skip the rest of this iteration and go to the next one\n",
        "        except Exception as e:\n",
        "            print(f\"Error on row {i}: {e}\")\n",
        "\n",
        "    # Compute the required statistics\n",
        "    min_time = np.min(generation_times)\n",
        "    max_time = np.max(generation_times)\n",
        "    avg_time = np.mean(generation_times)\n",
        "    std_time = np.std(generation_times)\n",
        "\n",
        "    print(f\"Min Generation Time: {min_time} seconds\")\n",
        "    print(f\"Max Generation Time: {max_time} seconds\")\n",
        "    print(f\"Average Generation Time: {avg_time} seconds\")\n",
        "    print(f\"Standard Deviation of Generation Time: {std_time} seconds\")\n",
        "\n",
        "    return pd.Series(responses), messages, pd.Series(adjectives_problem_list), pd.Series(adjectives_solution_list)\n"
      ]
    },
    {
      "cell_type": "code",
      "execution_count": null,
      "metadata": {
        "colab": {
          "base_uri": "https://localhost:8080/",
          "height": 104
        },
        "id": "oYqWejJteYBB",
        "outputId": "7da56e5d-1ed3-4bea-f25a-84a41b474452"
      },
      "outputs": [
        {
          "output_type": "stream",
          "name": "stderr",
          "text": [
            "100%|██████████| 2/2 [01:14<00:00, 37.17s/it]"
          ]
        },
        {
          "output_type": "stream",
          "name": "stdout",
          "text": [
            "Min Generation Time: 35.610312938690186 seconds\n",
            "Max Generation Time: 38.721471548080444 seconds\n",
            "Average Generation Time: 37.165892243385315 seconds\n",
            "Standard Deviation of Generation Time: 1.5555793046951294 seconds\n"
          ]
        },
        {
          "output_type": "stream",
          "name": "stderr",
          "text": [
            "\n"
          ]
        },
        {
          "output_type": "display_data",
          "data": {
            "text/plain": [
              "<IPython.core.display.Javascript object>"
            ],
            "application/javascript": [
              "\n",
              "    async function download(id, filename, size) {\n",
              "      if (!google.colab.kernel.accessAllowed) {\n",
              "        return;\n",
              "      }\n",
              "      const div = document.createElement('div');\n",
              "      const label = document.createElement('label');\n",
              "      label.textContent = `Downloading \"${filename}\": `;\n",
              "      div.appendChild(label);\n",
              "      const progress = document.createElement('progress');\n",
              "      progress.max = size;\n",
              "      div.appendChild(progress);\n",
              "      document.body.appendChild(div);\n",
              "\n",
              "      const buffers = [];\n",
              "      let downloaded = 0;\n",
              "\n",
              "      const channel = await google.colab.kernel.comms.open(id);\n",
              "      // Send a message to notify the kernel that we're ready.\n",
              "      channel.send({})\n",
              "\n",
              "      for await (const message of channel.messages) {\n",
              "        // Send a message to notify the kernel that we're ready.\n",
              "        channel.send({})\n",
              "        if (message.buffers) {\n",
              "          for (const buffer of message.buffers) {\n",
              "            buffers.push(buffer);\n",
              "            downloaded += buffer.byteLength;\n",
              "            progress.value = downloaded;\n",
              "          }\n",
              "        }\n",
              "      }\n",
              "      const blob = new Blob(buffers, {type: 'application/binary'});\n",
              "      const a = document.createElement('a');\n",
              "      a.href = window.URL.createObjectURL(blob);\n",
              "      a.download = filename;\n",
              "      div.appendChild(a);\n",
              "      a.click();\n",
              "      div.remove();\n",
              "    }\n",
              "  "
            ]
          },
          "metadata": {}
        },
        {
          "output_type": "display_data",
          "data": {
            "text/plain": [
              "<IPython.core.display.Javascript object>"
            ],
            "application/javascript": [
              "download(\"download_d977ddea-0f9e-4fc6-8f26-4d315ebd148f\", \"Level2S_20240213_0913.csv\", 5827)"
            ]
          },
          "metadata": {}
        }
      ],
      "source": [
        "# TODO Change n to 125\n",
        "n = 2\n",
        "\n",
        "level_2S, m, p_list, s_list = generate_responses_level2S(new_df[:n], 'LEVEL2S', default_context_level2S, adjectives_problem, adjectives_solution)\n",
        "df_2S = create_df_answers(level_2S, p_list, s_list, persona = new_df[\"sentence\"][:n], level_name = \"Level2S\")"
      ]
    },
    {
      "cell_type": "code",
      "execution_count": null,
      "metadata": {
        "colab": {
          "base_uri": "https://localhost:8080/",
          "height": 564
        },
        "id": "DUAEniyqYP_T",
        "outputId": "b0b0ac26-a29f-4abd-d2ec-b6b62e8a8b90"
      },
      "outputs": [
        {
          "output_type": "display_data",
          "data": {
            "text/plain": [
              "<Figure size 1000x600 with 1 Axes>"
            ],
            "image/png": "[encoded data removed]"
          },
          "metadata": {}
        }
      ],
      "source": [
        "make_distribution_length_plot(level_2S)"
      ]
    },
    {
      "cell_type": "markdown",
      "metadata": {
        "id": "FU6ygQc-TQBY"
      },
      "source": [
        "# LEVEL 3S: 1 instance, personas are real-world experts"
      ]
    },
    {
      "cell_type": "code",
      "execution_count": null,
      "metadata": {
        "id": "ay37g9gZYrRC"
      },
      "outputs": [],
      "source": [
        "def generate_responses_level3S(df, column_name, default_context, adjectives_problem, adjectives_solution):\n",
        "    responses = []\n",
        "    adjectives_problem_list, adjectives_solution_list = [], []\n",
        "    # List to store the generation times\n",
        "    generation_times = []\n",
        "\n",
        "    total_tokens = estimate_token_count(default_context)\n",
        "    messages = [{\"role\": \"system\", \"content\": default_context}]\n",
        "\n",
        "    for i, row in tqdm(df.iterrows(), total=df.shape[0]):\n",
        "        content = \"Give a new high quality, concise1 Problem and high quality, concise2 Solution. Make sure to tackle a different problem than the previous ones and propose a different solution. Make also sure your answers satisfy the evaluation criteria (novelty, environmental impact, financial impact, feasibility and scalability). The persona you embody for this answer: \"\n",
        "        content = content + row[\"persona\"]+\" who has expertise in \"+row[\"field\"] + \".\"\n",
        "        # select a random adjective from the provided list\n",
        "        adj1 = adjectives_problem[i]\n",
        "        adj2 = adjectives_solution[i]\n",
        "\n",
        "        adjectives_problem_list.append(adj1)\n",
        "        adjectives_solution_list.append(adj2)\n",
        "        # replace \"concise\" with the randomly selected adjective in the default context\n",
        "        content = content.replace(\"concise1\", adj1)\n",
        "        content = content.replace(\"concise2\", adj2)\n",
        "        tokens_in_content = estimate_token_count(content)\n",
        "\n",
        "        if total_tokens + tokens_in_content > 7000:\n",
        "            if len(messages) > 2:\n",
        "                # Remove the 2nd and 3rd message\n",
        "                removed_message_2 = messages.pop(1)  # Remove second message\n",
        "                total_tokens -= estimate_token_count(removed_message_2[\"content\"])\n",
        "                if len(messages) > 1:\n",
        "                    removed_message_3 = messages.pop(1)  # Remove third message (which is now at the second position after the previous pop)\n",
        "                    total_tokens -= estimate_token_count(removed_message_3[\"content\"])\n",
        "\n",
        "        try:\n",
        "            messages.append({\"role\": \"user\", \"content\": content})\n",
        "            total_tokens += tokens_in_content\n",
        "            start_time = time.time()\n",
        "            response = client.chat.completions.create(\n",
        "                model=\"gpt-4\",\n",
        "                messages=messages\n",
        "            )\n",
        "            # Stop the timer and store the generation time\n",
        "            end_time = time.time()\n",
        "            generation_times.append(end_time - start_time)\n",
        "            model_response = response.choices[0].message.content\n",
        "            total_tokens += estimate_token_count(model_response)\n",
        "            messages.pop()\n",
        "            responses.append(model_response)\n",
        "            messages.append({\"role\": \"system\", \"content\": model_response})\n",
        "        except Exception as e:\n",
        "            print(f\"Rate limit error, sleeping for 10 seconds. Error details: {e}\")\n",
        "            time.sleep(20)\n",
        "            continue  # Skip the rest of this iteration and go to the next one\n",
        "\n",
        "    # Compute the required statistics\n",
        "    min_time = np.min(generation_times)\n",
        "    max_time = np.max(generation_times)\n",
        "    avg_time = np.mean(generation_times)\n",
        "    std_time = np.std(generation_times)\n",
        "\n",
        "    print(f\"Min Generation Time: {min_time} seconds\")\n",
        "    print(f\"Max Generation Time: {max_time} seconds\")\n",
        "    print(f\"Average Generation Time: {avg_time} seconds\")\n",
        "    print(f\"Standard Deviation of Generation Time: {std_time} seconds\")\n",
        "\n",
        "    return pd.Series(responses), messages, pd.Series(adjectives_problem_list), pd.Series(adjectives_solution_list)\n"
      ]
    },
    {
      "cell_type": "code",
      "execution_count": null,
      "metadata": {
        "colab": {
          "base_uri": "https://localhost:8080/",
          "height": 104
        },
        "id": "IElvTyaHskho",
        "outputId": "b5cb0534-7cbb-46bf-835a-6f3831f09518"
      },
      "outputs": [
        {
          "output_type": "stream",
          "name": "stderr",
          "text": [
            "100%|██████████| 3/3 [01:36<00:00, 32.11s/it]"
          ]
        },
        {
          "output_type": "stream",
          "name": "stdout",
          "text": [
            "Min Generation Time: 25.628016471862793 seconds\n",
            "Max Generation Time: 35.553098917007446 seconds\n",
            "Average Generation Time: 32.10285631815592 seconds\n",
            "Standard Deviation of Generation Time: 4.581699594957688 seconds\n"
          ]
        },
        {
          "output_type": "stream",
          "name": "stderr",
          "text": [
            "\n"
          ]
        },
        {
          "output_type": "display_data",
          "data": {
            "text/plain": [
              "<IPython.core.display.Javascript object>"
            ],
            "application/javascript": [
              "\n",
              "    async function download(id, filename, size) {\n",
              "      if (!google.colab.kernel.accessAllowed) {\n",
              "        return;\n",
              "      }\n",
              "      const div = document.createElement('div');\n",
              "      const label = document.createElement('label');\n",
              "      label.textContent = `Downloading \"${filename}\": `;\n",
              "      div.appendChild(label);\n",
              "      const progress = document.createElement('progress');\n",
              "      progress.max = size;\n",
              "      div.appendChild(progress);\n",
              "      document.body.appendChild(div);\n",
              "\n",
              "      const buffers = [];\n",
              "      let downloaded = 0;\n",
              "\n",
              "      const channel = await google.colab.kernel.comms.open(id);\n",
              "      // Send a message to notify the kernel that we're ready.\n",
              "      channel.send({})\n",
              "\n",
              "      for await (const message of channel.messages) {\n",
              "        // Send a message to notify the kernel that we're ready.\n",
              "        channel.send({})\n",
              "        if (message.buffers) {\n",
              "          for (const buffer of message.buffers) {\n",
              "            buffers.push(buffer);\n",
              "            downloaded += buffer.byteLength;\n",
              "            progress.value = downloaded;\n",
              "          }\n",
              "        }\n",
              "      }\n",
              "      const blob = new Blob(buffers, {type: 'application/binary'});\n",
              "      const a = document.createElement('a');\n",
              "      a.href = window.URL.createObjectURL(blob);\n",
              "      a.download = filename;\n",
              "      div.appendChild(a);\n",
              "      a.click();\n",
              "      div.remove();\n",
              "    }\n",
              "  "
            ]
          },
          "metadata": {}
        },
        {
          "output_type": "display_data",
          "data": {
            "text/plain": [
              "<IPython.core.display.Javascript object>"
            ],
            "application/javascript": [
              "download(\"download_4094cf05-5bb4-47ae-90b8-9a2d91f9989a\", \"Level3S_20240213_0915.csv\", 7816)"
            ]
          },
          "metadata": {}
        }
      ],
      "source": [
        "# TODO change n\n",
        "n = 3\n",
        "\n",
        "level3S, m, p_list, s_list = generate_responses_level3S(df_experts[:n], 'LEVEL3S', default_context_level2S, adjectives_problem, adjectives_solution)\n",
        "df_3S = create_df_answers(level3S, p_list, s_list, persona = df_experts[\"persona\"][:n], level_name = \"Level3S\")"
      ]
    },
    {
      "cell_type": "code",
      "execution_count": null,
      "metadata": {
        "colab": {
          "base_uri": "https://localhost:8080/",
          "height": 564
        },
        "id": "xeTWkCKUc1uV",
        "outputId": "d6c9dd9f-43a8-4b46-fa0f-0db36b7db248"
      },
      "outputs": [
        {
          "output_type": "display_data",
          "data": {
            "text/plain": [
              "<Figure size 1000x600 with 1 Axes>"
            ],
            "image/png": "[encoded data removed]"
          },
          "metadata": {}
        }
      ],
      "source": [
        "make_distribution_length_plot(level3S)"
      ]
    },
    {
      "cell_type": "code",
      "execution_count": null,
      "metadata": {
        "colab": {
          "base_uri": "https://localhost:8080/",
          "height": 143
        },
        "id": "Csq_dpdLvCMo",
        "outputId": "69bf5a1b-682a-40b0-8eb8-9dc412ed3c47"
      },
      "outputs": [
        {
          "output_type": "execute_result",
          "data": {
            "text/plain": [
              "     level                                            problem  \\\n",
              "0  Level3S  The rapid growth of the IT industry has produc...   \n",
              "1  Level3S  The industrial machining sector creates an eno...   \n",
              "2  Level3S  The global packaging industry contributes sign...   \n",
              "\n",
              "                                            solution  \\\n",
              "0  As the CEO of Google, I am privy to the proble...   \n",
              "1  As the CEO of United Technologies and someone ...   \n",
              "2  As the CEO of Chemours and an expert in chemic...   \n",
              "\n",
              "               problem_adjective             solution_adjective        persona  \n",
              "0                        concise                           long  Sundar Pichai  \n",
              "1  highly detailed and elaborate  highly detailed and elaborate     Greg Hayes  \n",
              "2                    20-sentence                          brief  Mark Vergnano  "
            ],
            "text/html": [
              "\n",
              "  <div id=\"df-fd7222df-92cb-47db-9209-6b456f870d80\" class=\"colab-df-container\">\n",
              "    <div>\n",
              "<style scoped>\n",
              "    .dataframe tbody tr th:only-of-type {\n",
              "        vertical-align: middle;\n",
              "    }\n",
              "\n",
              "    .dataframe tbody tr th {\n",
              "        vertical-align: top;\n",
              "    }\n",
              "\n",
              "    .dataframe thead th {\n",
              "        text-align: right;\n",
              "    }\n",
              "</style>\n",
              "<table border=\"1\" class=\"dataframe\">\n",
              "  <thead>\n",
              "    <tr style=\"text-align: right;\">\n",
              "      <th></th>\n",
              "      <th>level</th>\n",
              "      <th>problem</th>\n",
              "      <th>solution</th>\n",
              "      <th>problem_adjective</th>\n",
              "      <th>solution_adjective</th>\n",
              "      <th>persona</th>\n",
              "    </tr>\n",
              "  </thead>\n",
              "  <tbody>\n",
              "    <tr>\n",
              "      <th>0</th>\n",
              "      <td>Level3S</td>\n",
              "      <td>The rapid growth of the IT industry has produc...</td>\n",
              "      <td>As the CEO of Google, I am privy to the proble...</td>\n",
              "      <td>concise</td>\n",
              "      <td>long</td>\n",
              "      <td>Sundar Pichai</td>\n",
              "    </tr>\n",
              "    <tr>\n",
              "      <th>1</th>\n",
              "      <td>Level3S</td>\n",
              "      <td>The industrial machining sector creates an eno...</td>\n",
              "      <td>As the CEO of United Technologies and someone ...</td>\n",
              "      <td>highly detailed and elaborate</td>\n",
              "      <td>highly detailed and elaborate</td>\n",
              "      <td>Greg Hayes</td>\n",
              "    </tr>\n",
              "    <tr>\n",
              "      <th>2</th>\n",
              "      <td>Level3S</td>\n",
              "      <td>The global packaging industry contributes sign...</td>\n",
              "      <td>As the CEO of Chemours and an expert in chemic...</td>\n",
              "      <td>20-sentence</td>\n",
              "      <td>brief</td>\n",
              "      <td>Mark Vergnano</td>\n",
              "    </tr>\n",
              "  </tbody>\n",
              "</table>\n",
              "</div>\n",
              "    <div class=\"colab-df-buttons\">\n",
              "\n",
              "  <div class=\"colab-df-container\">\n",
              "    <button class=\"colab-df-convert\" onclick=\"convertToInteractive('df-fd7222df-92cb-47db-9209-6b456f870d80')\"\n",
              "            title=\"Convert this dataframe to an interactive table.\"\n",
              "            style=\"display:none;\">\n",
              "\n",
              "  <svg xmlns=\"http://www.w3.org/2000/svg\" height=\"24px\" viewBox=\"0 -960 960 960\">\n",
              "    <path d=\"M120-120v-720h720v720H120Zm60-500h600v-160H180v160Zm220 220h160v-160H400v160Zm0 220h160v-160H400v160ZM180-400h160v-160H180v160Zm440 0h160v-160H620v160ZM180-180h160v-160H180v160Zm440 0h160v-160H620v160Z\"/>\n",
              "  </svg>\n",
              "    </button>\n",
              "\n",
              "  <style>\n",
              "    .colab-df-container {\n",
              "      display:flex;\n",
              "      gap: 12px;\n",
              "    }\n",
              "\n",
              "    .colab-df-convert {\n",
              "      background-color: #E8F0FE;\n",
              "      border: none;\n",
              "      border-radius: 50%;\n",
              "      cursor: pointer;\n",
              "      display: none;\n",
              "      fill: #1967D2;\n",
              "      height: 32px;\n",
              "      padding: 0 0 0 0;\n",
              "      width: 32px;\n",
              "    }\n",
              "\n",
              "    .colab-df-convert:hover {\n",
              "      background-color: #E2EBFA;\n",
              "      box-shadow: 0px 1px 2px rgba(60, 64, 67, 0.3), 0px 1px 3px 1px rgba(60, 64, 67, 0.15);\n",
              "      fill: #174EA6;\n",
              "    }\n",
              "\n",
              "    .colab-df-buttons div {\n",
              "      margin-bottom: 4px;\n",
              "    }\n",
              "\n",
              "    [theme=dark] .colab-df-convert {\n",
              "      background-color: #3B4455;\n",
              "      fill: #D2E3FC;\n",
              "    }\n",
              "\n",
              "    [theme=dark] .colab-df-convert:hover {\n",
              "      background-color: #434B5C;\n",
              "      box-shadow: 0px 1px 3px 1px rgba(0, 0, 0, 0.15);\n",
              "      filter: drop-shadow(0px 1px 2px rgba(0, 0, 0, 0.3));\n",
              "      fill: #FFFFFF;\n",
              "    }\n",
              "  </style>\n",
              "\n",
              "    <script>\n",
              "      const buttonEl =\n",
              "        document.querySelector('#df-fd7222df-92cb-47db-9209-6b456f870d80 button.colab-df-convert');\n",
              "      buttonEl.style.display =\n",
              "        google.colab.kernel.accessAllowed ? 'block' : 'none';\n",
              "\n",
              "      async function convertToInteractive(key) {\n",
              "        const element = document.querySelector('#df-fd7222df-92cb-47db-9209-6b456f870d80');\n",
              "        const dataTable =\n",
              "          await google.colab.kernel.invokeFunction('convertToInteractive',\n",
              "                                                    [key], {});\n",
              "        if (!dataTable) return;\n",
              "\n",
              "        const docLinkHtml = 'Like what you see? Visit the ' +\n",
              "          '<a target=\"_blank\" href=https://colab.research.google.com/notebooks/data_table.ipynb>data table notebook</a>'\n",
              "          + ' to learn more about interactive tables.';\n",
              "        element.innerHTML = '';\n",
              "        dataTable['output_type'] = 'display_data';\n",
              "        await google.colab.output.renderOutput(dataTable, element);\n",
              "        const docLink = document.createElement('div');\n",
              "        docLink.innerHTML = docLinkHtml;\n",
              "        element.appendChild(docLink);\n",
              "      }\n",
              "    </script>\n",
              "  </div>\n",
              "\n",
              "\n",
              "<div id=\"df-cc005ea5-101f-4466-90df-c3091da39314\">\n",
              "  <button class=\"colab-df-quickchart\" onclick=\"quickchart('df-cc005ea5-101f-4466-90df-c3091da39314')\"\n",
              "            title=\"Suggest charts\"\n",
              "            style=\"display:none;\">\n",
              "\n",
              "<svg xmlns=\"http://www.w3.org/2000/svg\" height=\"24px\"viewBox=\"0 0 24 24\"\n",
              "     width=\"24px\">\n",
              "    <g>\n",
              "        <path d=\"M19 3H5c-1.1 0-2 .9-2 2v14c0 1.1.9 2 2 2h14c1.1 0 2-.9 2-2V5c0-1.1-.9-2-2-2zM9 17H7v-7h2v7zm4 0h-2V7h2v10zm4 0h-2v-4h2v4z\"/>\n",
              "    </g>\n",
              "</svg>\n",
              "  </button>\n",
              "\n",
              "<style>\n",
              "  .colab-df-quickchart {\n",
              "      --bg-color: #E8F0FE;\n",
              "      --fill-color: #1967D2;\n",
              "      --hover-bg-color: #E2EBFA;\n",
              "      --hover-fill-color: #174EA6;\n",
              "      --disabled-fill-color: #AAA;\n",
              "      --disabled-bg-color: #DDD;\n",
              "  }\n",
              "\n",
              "  [theme=dark] .colab-df-quickchart {\n",
              "      --bg-color: #3B4455;\n",
              "      --fill-color: #D2E3FC;\n",
              "      --hover-bg-color: #434B5C;\n",
              "      --hover-fill-color: #FFFFFF;\n",
              "      --disabled-bg-color: #3B4455;\n",
              "      --disabled-fill-color: #666;\n",
              "  }\n",
              "\n",
              "  .colab-df-quickchart {\n",
              "    background-color: var(--bg-color);\n",
              "    border: none;\n",
              "    border-radius: 50%;\n",
              "    cursor: pointer;\n",
              "    display: none;\n",
              "    fill: var(--fill-color);\n",
              "    height: 32px;\n",
              "    padding: 0;\n",
              "    width: 32px;\n",
              "  }\n",
              "\n",
              "  .colab-df-quickchart:hover {\n",
              "    background-color: var(--hover-bg-color);\n",
              "    box-shadow: 0 1px 2px rgba(60, 64, 67, 0.3), 0 1px 3px 1px rgba(60, 64, 67, 0.15);\n",
              "    fill: var(--button-hover-fill-color);\n",
              "  }\n",
              "\n",
              "  .colab-df-quickchart-complete:disabled,\n",
              "  .colab-df-quickchart-complete:disabled:hover {\n",
              "    background-color: var(--disabled-bg-color);\n",
              "    fill: var(--disabled-fill-color);\n",
              "    box-shadow: none;\n",
              "  }\n",
              "\n",
              "  .colab-df-spinner {\n",
              "    border: 2px solid var(--fill-color);\n",
              "    border-color: transparent;\n",
              "    border-bottom-color: var(--fill-color);\n",
              "    animation:\n",
              "      spin 1s steps(1) infinite;\n",
              "  }\n",
              "\n",
              "  @keyframes spin {\n",
              "    0% {\n",
              "      border-color: transparent;\n",
              "      border-bottom-color: var(--fill-color);\n",
              "      border-left-color: var(--fill-color);\n",
              "    }\n",
              "    20% {\n",
              "      border-color: transparent;\n",
              "      border-left-color: var(--fill-color);\n",
              "      border-top-color: var(--fill-color);\n",
              "    }\n",
              "    30% {\n",
              "      border-color: transparent;\n",
              "      border-left-color: var(--fill-color);\n",
              "      border-top-color: var(--fill-color);\n",
              "      border-right-color: var(--fill-color);\n",
              "    }\n",
              "    40% {\n",
              "      border-color: transparent;\n",
              "      border-right-color: var(--fill-color);\n",
              "      border-top-color: var(--fill-color);\n",
              "    }\n",
              "    60% {\n",
              "      border-color: transparent;\n",
              "      border-right-color: var(--fill-color);\n",
              "    }\n",
              "    80% {\n",
              "      border-color: transparent;\n",
              "      border-right-color: var(--fill-color);\n",
              "      border-bottom-color: var(--fill-color);\n",
              "    }\n",
              "    90% {\n",
              "      border-color: transparent;\n",
              "      border-bottom-color: var(--fill-color);\n",
              "    }\n",
              "  }\n",
              "</style>\n",
              "\n",
              "  <script>\n",
              "    async function quickchart(key) {\n",
              "      const quickchartButtonEl =\n",
              "        document.querySelector('#' + key + ' button');\n",
              "      quickchartButtonEl.disabled = true;  // To prevent multiple clicks.\n",
              "      quickchartButtonEl.classList.add('colab-df-spinner');\n",
              "      try {\n",
              "        const charts = await google.colab.kernel.invokeFunction(\n",
              "            'suggestCharts', [key], {});\n",
              "      } catch (error) {\n",
              "        console.error('Error during call to suggestCharts:', error);\n",
              "      }\n",
              "      quickchartButtonEl.classList.remove('colab-df-spinner');\n",
              "      quickchartButtonEl.classList.add('colab-df-quickchart-complete');\n",
              "    }\n",
              "    (() => {\n",
              "      let quickchartButtonEl =\n",
              "        document.querySelector('#df-cc005ea5-101f-4466-90df-c3091da39314 button');\n",
              "      quickchartButtonEl.style.display =\n",
              "        google.colab.kernel.accessAllowed ? 'block' : 'none';\n",
              "    })();\n",
              "  </script>\n",
              "</div>\n",
              "    </div>\n",
              "  </div>\n"
            ]
          },
          "metadata": {},
          "execution_count": 43
        }
      ],
      "source": [
        "df_3S"
      ]
    }
  ],
  "metadata": {
    "colab": {
      "collapsed_sections": [
        "UsDbgTbAfBL4",
        "4imrCRwxPlCa",
        "8sylYt5pQcJw",
        "JvrSTbL-mAKi",
        "BbBz24FNTYpp",
        "dZIJ8Dnbc5nq",
        "FU6ygQc-TQBY"
      ],
      "provenance": []
    },
    "kernelspec": {
      "display_name": "Python 3",
      "name": "python3"
    },
    "language_info": {
      "name": "python"
    }
  },
  "nbformat": 4,
  "nbformat_minor": 0
}